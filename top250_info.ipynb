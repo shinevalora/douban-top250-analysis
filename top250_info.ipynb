{
 "cells": [
  {
   "cell_type": "markdown",
   "metadata": {},
   "source": [
    "# 一、数据查看"
   ]
  },
  {
   "cell_type": "code",
   "execution_count": 1,
   "metadata": {
    "collapsed": true
   },
   "outputs": [],
   "source": [
    "import numpy as np\n",
    "import pandas as pd\n",
    "from pandas import DataFrame,Series\n",
    "# 忽略警告信息\n",
    "import warnings\n",
    "warnings.filterwarnings(\"ignore\")"
   ]
  },
  {
   "cell_type": "markdown",
   "metadata": {},
   "source": [
    "### 1.1、查看通过爬虫抓取的[top250_f1.csv]数据"
   ]
  },
  {
   "cell_type": "code",
   "execution_count": 2,
   "metadata": {},
   "outputs": [
    {
     "data": {
      "text/html": [
       "<div>\n",
       "<style>\n",
       "    .dataframe thead tr:only-child th {\n",
       "        text-align: right;\n",
       "    }\n",
       "\n",
       "    .dataframe thead th {\n",
       "        text-align: left;\n",
       "    }\n",
       "\n",
       "    .dataframe tbody tr th {\n",
       "        vertical-align: top;\n",
       "    }\n",
       "</style>\n",
       "<table border=\"1\" class=\"dataframe\">\n",
       "  <thead>\n",
       "    <tr style=\"text-align: right;\">\n",
       "      <th></th>\n",
       "      <th>num</th>\n",
       "      <th>title</th>\n",
       "      <th>director</th>\n",
       "      <th>role</th>\n",
       "      <th>init_year</th>\n",
       "      <th>area</th>\n",
       "      <th>genre</th>\n",
       "      <th>rating_num</th>\n",
       "      <th>comment_num</th>\n",
       "      <th>comment</th>\n",
       "      <th>url</th>\n",
       "    </tr>\n",
       "  </thead>\n",
       "  <tbody>\n",
       "    <tr>\n",
       "      <th>0</th>\n",
       "      <td>1</td>\n",
       "      <td>肖申克的救赎</td>\n",
       "      <td>弗兰克·德拉邦特 Frank Darabont</td>\n",
       "      <td>蒂姆·罗宾斯 Tim Robbins</td>\n",
       "      <td>1994</td>\n",
       "      <td>美国</td>\n",
       "      <td>['犯罪 剧情']</td>\n",
       "      <td>9.6</td>\n",
       "      <td>964842</td>\n",
       "      <td>希望让人自由。</td>\n",
       "      <td>https://movie.douban.com/subject/1292052/</td>\n",
       "    </tr>\n",
       "    <tr>\n",
       "      <th>1</th>\n",
       "      <td>2</td>\n",
       "      <td>霸王别姬</td>\n",
       "      <td>陈凯歌 Kaige Chen</td>\n",
       "      <td>张国荣 Leslie Cheung</td>\n",
       "      <td>1993</td>\n",
       "      <td>中国大陆 香港</td>\n",
       "      <td>['剧情 爱情 同性']</td>\n",
       "      <td>9.5</td>\n",
       "      <td>699930</td>\n",
       "      <td>风华绝代。</td>\n",
       "      <td>https://movie.douban.com/subject/1291546/</td>\n",
       "    </tr>\n",
       "    <tr>\n",
       "      <th>2</th>\n",
       "      <td>3</td>\n",
       "      <td>这个杀手不太冷</td>\n",
       "      <td>吕克·贝松 Luc Besson</td>\n",
       "      <td>让·雷诺 Jean Reno</td>\n",
       "      <td>1994</td>\n",
       "      <td>法国</td>\n",
       "      <td>['剧情 动作 犯罪']</td>\n",
       "      <td>9.4</td>\n",
       "      <td>912435</td>\n",
       "      <td>怪蜀黍和小萝莉不得不说的故事。</td>\n",
       "      <td>https://movie.douban.com/subject/1295644/</td>\n",
       "    </tr>\n",
       "    <tr>\n",
       "      <th>3</th>\n",
       "      <td>4</td>\n",
       "      <td>阿甘正传</td>\n",
       "      <td>Robert Zemeckis</td>\n",
       "      <td>Tom Hanks</td>\n",
       "      <td>1994</td>\n",
       "      <td>美国</td>\n",
       "      <td>['剧情 爱情']</td>\n",
       "      <td>9.4</td>\n",
       "      <td>775889</td>\n",
       "      <td>一部美国近现代史。</td>\n",
       "      <td>https://movie.douban.com/subject/1292720/</td>\n",
       "    </tr>\n",
       "    <tr>\n",
       "      <th>4</th>\n",
       "      <td>5</td>\n",
       "      <td>美丽人生</td>\n",
       "      <td>罗伯托·贝尼尼 Roberto Benigni</td>\n",
       "      <td>罗伯托·贝尼尼 Roberto Beni...']</td>\n",
       "      <td>1997</td>\n",
       "      <td>意大利</td>\n",
       "      <td>['剧情 喜剧 爱情 战争']</td>\n",
       "      <td>9.5</td>\n",
       "      <td>453651</td>\n",
       "      <td>最美的谎言。</td>\n",
       "      <td>https://movie.douban.com/subject/1292063/</td>\n",
       "    </tr>\n",
       "  </tbody>\n",
       "</table>\n",
       "</div>"
      ],
      "text/plain": [
       "   num    title                 director                       role init_year  \\\n",
       "0    1   肖申克的救赎  弗兰克·德拉邦特 Frank Darabont        蒂姆·罗宾斯 Tim Robbins       1994   \n",
       "1    2     霸王别姬           陈凯歌 Kaige Chen         张国荣 Leslie Cheung       1993   \n",
       "2    3  这个杀手不太冷         吕克·贝松 Luc Besson            让·雷诺 Jean Reno       1994   \n",
       "3    4     阿甘正传          Robert Zemeckis                 Tom Hanks       1994   \n",
       "4    5     美丽人生  罗伯托·贝尼尼 Roberto Benigni  罗伯托·贝尼尼 Roberto Beni...']      1997   \n",
       "\n",
       "      area            genre  rating_num  comment_num          comment  \\\n",
       "0       美国        ['犯罪 剧情']         9.6       964842          希望让人自由。   \n",
       "1  中国大陆 香港     ['剧情 爱情 同性']         9.5       699930            风华绝代。   \n",
       "2       法国     ['剧情 动作 犯罪']         9.4       912435  怪蜀黍和小萝莉不得不说的故事。   \n",
       "3       美国        ['剧情 爱情']         9.4       775889        一部美国近现代史。   \n",
       "4      意大利  ['剧情 喜剧 爱情 战争']         9.5       453651           最美的谎言。   \n",
       "\n",
       "                                         url  \n",
       "0  https://movie.douban.com/subject/1292052/  \n",
       "1  https://movie.douban.com/subject/1291546/  \n",
       "2  https://movie.douban.com/subject/1295644/  \n",
       "3  https://movie.douban.com/subject/1292720/  \n",
       "4  https://movie.douban.com/subject/1292063/  "
      ]
     },
     "execution_count": 2,
     "metadata": {},
     "output_type": "execute_result"
    }
   ],
   "source": [
    "# 查看 top250_f1.csv 前五条数据\n",
    "df_1 = pd.read_csv(\"top250_f1.csv\",sep = \"#\", encoding = 'utf8',\n",
    "                 names=['num','title','director','role','init_year','area','genre','rating_num','comment_num','comment','url'],header=0)\n",
    "# 查看前5条\n",
    "df_1.head()\n",
    "#df_1.tail() # 查看后5条"
   ]
  },
  {
   "cell_type": "markdown",
   "metadata": {},
   "source": [
    "### 1.2、查看通过爬虫抓取的[top250_f2.csv]数据"
   ]
  },
  {
   "cell_type": "code",
   "execution_count": 3,
   "metadata": {},
   "outputs": [
    {
     "data": {
      "text/html": [
       "<div>\n",
       "<style>\n",
       "    .dataframe thead tr:only-child th {\n",
       "        text-align: right;\n",
       "    }\n",
       "\n",
       "    .dataframe thead th {\n",
       "        text-align: left;\n",
       "    }\n",
       "\n",
       "    .dataframe tbody tr th {\n",
       "        vertical-align: top;\n",
       "    }\n",
       "</style>\n",
       "<table border=\"1\" class=\"dataframe\">\n",
       "  <thead>\n",
       "    <tr style=\"text-align: right;\">\n",
       "      <th></th>\n",
       "      <th>num</th>\n",
       "      <th>rank</th>\n",
       "      <th>alt_title</th>\n",
       "      <th>title</th>\n",
       "      <th>pubdate</th>\n",
       "      <th>language</th>\n",
       "      <th>writer</th>\n",
       "      <th>director</th>\n",
       "      <th>cast</th>\n",
       "      <th>movie_duration</th>\n",
       "      <th>year</th>\n",
       "      <th>movie_type</th>\n",
       "      <th>tags</th>\n",
       "      <th>image</th>\n",
       "    </tr>\n",
       "  </thead>\n",
       "  <tbody>\n",
       "    <tr>\n",
       "      <th>0</th>\n",
       "      <td>1</td>\n",
       "      <td>9.6</td>\n",
       "      <td>肖申克的救赎 / 月黑高飞(港)</td>\n",
       "      <td>The Shawshank Redemption</td>\n",
       "      <td>['1994-09-10(多伦多电影节)', '1994-10-14(美国)']</td>\n",
       "      <td>['英语']</td>\n",
       "      <td>['弗兰克·德拉邦特 Frank Darabont', '斯蒂芬·金 Stephen King']</td>\n",
       "      <td>['弗兰克·德拉邦特 Frank Darabont']</td>\n",
       "      <td>['蒂姆·罗宾斯 Tim Robbins', '摩根·弗里曼 Morgan Freeman'...</td>\n",
       "      <td>['142 分钟']</td>\n",
       "      <td>['1994']</td>\n",
       "      <td>['犯罪', '剧情']</td>\n",
       "      <td>[{'count': 197742, 'name': '经典'}, {'count': 16...</td>\n",
       "      <td>https://img3.doubanio.com/view/photo/s_ratio_p...</td>\n",
       "    </tr>\n",
       "    <tr>\n",
       "      <th>1</th>\n",
       "      <td>2</td>\n",
       "      <td>9.5</td>\n",
       "      <td>再见，我的妾</td>\n",
       "      <td>霸王别姬</td>\n",
       "      <td>['1993-01-01(香港)']</td>\n",
       "      <td>['汉语普通话']</td>\n",
       "      <td>['芦苇 Wei Lu', '李碧华 Lillian Lee']</td>\n",
       "      <td>['陈凯歌 Kaige Chen']</td>\n",
       "      <td>['张国荣 Leslie Cheung', '张丰毅 Fengyi Zhang', '巩俐 ...</td>\n",
       "      <td>['171 分钟']</td>\n",
       "      <td>['1993']</td>\n",
       "      <td>['剧情', '爱情', '同性']</td>\n",
       "      <td>[{'count': 124150, 'name': '经典'}, {'count': 63...</td>\n",
       "      <td>https://img3.doubanio.com/view/photo/s_ratio_p...</td>\n",
       "    </tr>\n",
       "    <tr>\n",
       "      <th>2</th>\n",
       "      <td>3</td>\n",
       "      <td>9.4</td>\n",
       "      <td>这个杀手不太冷 / 杀手莱昂</td>\n",
       "      <td>Léon</td>\n",
       "      <td>['1994-09-14(法国)']</td>\n",
       "      <td>['英语', '意大利语', '法语']</td>\n",
       "      <td>['吕克·贝松 Luc Besson']</td>\n",
       "      <td>['吕克·贝松 Luc Besson']</td>\n",
       "      <td>['让·雷诺 Jean Reno', '娜塔莉·波特曼 Natalie Portman', ...</td>\n",
       "      <td>['110分钟(剧场版)', '133分钟(国际版)']</td>\n",
       "      <td>['1994']</td>\n",
       "      <td>['剧情', '动作', '犯罪']</td>\n",
       "      <td>[{'count': 150097, 'name': '经典'}, {'count': 85...</td>\n",
       "      <td>https://img3.doubanio.com/view/photo/s_ratio_p...</td>\n",
       "    </tr>\n",
       "    <tr>\n",
       "      <th>3</th>\n",
       "      <td>4</td>\n",
       "      <td>9.4</td>\n",
       "      <td>阿甘正传 / 福雷斯特·冈普</td>\n",
       "      <td>Forrest Gump</td>\n",
       "      <td>['1994-06-23(洛杉矶首映)', '1994-07-06(美国)']</td>\n",
       "      <td>['英语']</td>\n",
       "      <td>['Eric Roth', 'Winston Groom']</td>\n",
       "      <td>['Robert Zemeckis']</td>\n",
       "      <td>['Tom Hanks', 'Robin Wright Penn', 'Gary Sinis...</td>\n",
       "      <td>['142 分钟']</td>\n",
       "      <td>['1994']</td>\n",
       "      <td>['剧情', '爱情']</td>\n",
       "      <td>[{'count': 179046, 'name': '励志'}, {'count': 13...</td>\n",
       "      <td>https://img1.doubanio.com/view/photo/s_ratio_p...</td>\n",
       "    </tr>\n",
       "    <tr>\n",
       "      <th>4</th>\n",
       "      <td>5</td>\n",
       "      <td>9.5</td>\n",
       "      <td>美丽人生 / 一个快乐的传说(港)</td>\n",
       "      <td>La vita è bella</td>\n",
       "      <td>['1997-12-20(意大利)']</td>\n",
       "      <td>['意大利语', '德语', '英语']</td>\n",
       "      <td>['文森佐·克拉米 Vincenzo Cerami', '罗伯托·贝尼尼 Roberto B...</td>\n",
       "      <td>['罗伯托·贝尼尼 Roberto Benigni']</td>\n",
       "      <td>['罗伯托·贝尼尼 Roberto Benigni', '尼可莱塔·布拉斯基 Nicolet...</td>\n",
       "      <td>['116分钟']</td>\n",
       "      <td>['1997']</td>\n",
       "      <td>['剧情', '喜剧', '爱情', '战争']</td>\n",
       "      <td>[{'count': 70710, 'name': '意大利'}, {'count': 67...</td>\n",
       "      <td>https://img3.doubanio.com/view/photo/s_ratio_p...</td>\n",
       "    </tr>\n",
       "  </tbody>\n",
       "</table>\n",
       "</div>"
      ],
      "text/plain": [
       "   num  rank          alt_title                     title  \\\n",
       "0    1   9.6   肖申克的救赎 / 月黑高飞(港)  The Shawshank Redemption   \n",
       "1    2   9.5             再见，我的妾                      霸王别姬   \n",
       "2    3   9.4     这个杀手不太冷 / 杀手莱昂                      Léon   \n",
       "3    4   9.4     阿甘正传 / 福雷斯特·冈普              Forrest Gump   \n",
       "4    5   9.5  美丽人生 / 一个快乐的传说(港)           La vita è bella   \n",
       "\n",
       "                                    pubdate              language  \\\n",
       "0  ['1994-09-10(多伦多电影节)', '1994-10-14(美国)']                ['英语']   \n",
       "1                        ['1993-01-01(香港)']             ['汉语普通话']   \n",
       "2                        ['1994-09-14(法国)']  ['英语', '意大利语', '法语']   \n",
       "3   ['1994-06-23(洛杉矶首映)', '1994-07-06(美国)']                ['英语']   \n",
       "4                       ['1997-12-20(意大利)']  ['意大利语', '德语', '英语']   \n",
       "\n",
       "                                              writer  \\\n",
       "0  ['弗兰克·德拉邦特 Frank Darabont', '斯蒂芬·金 Stephen King']   \n",
       "1                   ['芦苇 Wei Lu', '李碧华 Lillian Lee']   \n",
       "2                               ['吕克·贝松 Luc Besson']   \n",
       "3                     ['Eric Roth', 'Winston Groom']   \n",
       "4  ['文森佐·克拉米 Vincenzo Cerami', '罗伯托·贝尼尼 Roberto B...   \n",
       "\n",
       "                      director  \\\n",
       "0  ['弗兰克·德拉邦特 Frank Darabont']   \n",
       "1           ['陈凯歌 Kaige Chen']   \n",
       "2         ['吕克·贝松 Luc Besson']   \n",
       "3          ['Robert Zemeckis']   \n",
       "4  ['罗伯托·贝尼尼 Roberto Benigni']   \n",
       "\n",
       "                                                cast  \\\n",
       "0  ['蒂姆·罗宾斯 Tim Robbins', '摩根·弗里曼 Morgan Freeman'...   \n",
       "1  ['张国荣 Leslie Cheung', '张丰毅 Fengyi Zhang', '巩俐 ...   \n",
       "2  ['让·雷诺 Jean Reno', '娜塔莉·波特曼 Natalie Portman', ...   \n",
       "3  ['Tom Hanks', 'Robin Wright Penn', 'Gary Sinis...   \n",
       "4  ['罗伯托·贝尼尼 Roberto Benigni', '尼可莱塔·布拉斯基 Nicolet...   \n",
       "\n",
       "                 movie_duration      year                movie_type  \\\n",
       "0                    ['142 分钟']  ['1994']              ['犯罪', '剧情']   \n",
       "1                    ['171 分钟']  ['1993']        ['剧情', '爱情', '同性']   \n",
       "2  ['110分钟(剧场版)', '133分钟(国际版)']  ['1994']        ['剧情', '动作', '犯罪']   \n",
       "3                    ['142 分钟']  ['1994']              ['剧情', '爱情']   \n",
       "4                     ['116分钟']  ['1997']  ['剧情', '喜剧', '爱情', '战争']   \n",
       "\n",
       "                                                tags  \\\n",
       "0  [{'count': 197742, 'name': '经典'}, {'count': 16...   \n",
       "1  [{'count': 124150, 'name': '经典'}, {'count': 63...   \n",
       "2  [{'count': 150097, 'name': '经典'}, {'count': 85...   \n",
       "3  [{'count': 179046, 'name': '励志'}, {'count': 13...   \n",
       "4  [{'count': 70710, 'name': '意大利'}, {'count': 67...   \n",
       "\n",
       "                                               image  \n",
       "0  https://img3.doubanio.com/view/photo/s_ratio_p...  \n",
       "1  https://img3.doubanio.com/view/photo/s_ratio_p...  \n",
       "2  https://img3.doubanio.com/view/photo/s_ratio_p...  \n",
       "3  https://img1.doubanio.com/view/photo/s_ratio_p...  \n",
       "4  https://img3.doubanio.com/view/photo/s_ratio_p...  "
      ]
     },
     "execution_count": 3,
     "metadata": {},
     "output_type": "execute_result"
    }
   ],
   "source": [
    "# 查看 top250_f2.csv 前五条数据\n",
    "df_2 = pd.read_csv(\"top250_f2.csv\",sep = \"#\", encoding = 'utf8',\n",
    "                 names=['num','rank','alt_title','title','pubdate','language','writer','director',\n",
    "                        'cast','movie_duration','year','movie_type','tags','image']\n",
    "                  ,header=0)\n",
    "# 查看前5条\n",
    "df_2.head()\n",
    "#df_2.tail() # 查看后5条"
   ]
  },
  {
   "cell_type": "markdown",
   "metadata": {},
   "source": [
    "# 二、数据清洗"
   ]
  },
  {
   "cell_type": "markdown",
   "metadata": {},
   "source": [
    "### 2.1、合并数据，以后继进一步数据分析"
   ]
  },
  {
   "cell_type": "code",
   "execution_count": 4,
   "metadata": {},
   "outputs": [
    {
     "data": {
      "text/html": [
       "<div>\n",
       "<style>\n",
       "    .dataframe thead tr:only-child th {\n",
       "        text-align: right;\n",
       "    }\n",
       "\n",
       "    .dataframe thead th {\n",
       "        text-align: left;\n",
       "    }\n",
       "\n",
       "    .dataframe tbody tr th {\n",
       "        vertical-align: top;\n",
       "    }\n",
       "</style>\n",
       "<table border=\"1\" class=\"dataframe\">\n",
       "  <thead>\n",
       "    <tr style=\"text-align: right;\">\n",
       "      <th></th>\n",
       "      <th>num</th>\n",
       "      <th>title</th>\n",
       "      <th>init_year</th>\n",
       "      <th>area</th>\n",
       "      <th>genre</th>\n",
       "      <th>rating_num</th>\n",
       "      <th>comment_num</th>\n",
       "      <th>language</th>\n",
       "      <th>director</th>\n",
       "      <th>cast</th>\n",
       "      <th>movie_duration</th>\n",
       "      <th>tags</th>\n",
       "    </tr>\n",
       "  </thead>\n",
       "  <tbody>\n",
       "    <tr>\n",
       "      <th>0</th>\n",
       "      <td>1</td>\n",
       "      <td>肖申克的救赎</td>\n",
       "      <td>1994</td>\n",
       "      <td>美国</td>\n",
       "      <td>['犯罪 剧情']</td>\n",
       "      <td>9.6</td>\n",
       "      <td>964842</td>\n",
       "      <td>['英语']</td>\n",
       "      <td>['弗兰克·德拉邦特 Frank Darabont']</td>\n",
       "      <td>['蒂姆·罗宾斯 Tim Robbins', '摩根·弗里曼 Morgan Freeman'...</td>\n",
       "      <td>['142 分钟']</td>\n",
       "      <td>[{'count': 197742, 'name': '经典'}, {'count': 16...</td>\n",
       "    </tr>\n",
       "    <tr>\n",
       "      <th>1</th>\n",
       "      <td>2</td>\n",
       "      <td>霸王别姬</td>\n",
       "      <td>1993</td>\n",
       "      <td>中国大陆 香港</td>\n",
       "      <td>['剧情 爱情 同性']</td>\n",
       "      <td>9.5</td>\n",
       "      <td>699930</td>\n",
       "      <td>['汉语普通话']</td>\n",
       "      <td>['陈凯歌 Kaige Chen']</td>\n",
       "      <td>['张国荣 Leslie Cheung', '张丰毅 Fengyi Zhang', '巩俐 ...</td>\n",
       "      <td>['171 分钟']</td>\n",
       "      <td>[{'count': 124150, 'name': '经典'}, {'count': 63...</td>\n",
       "    </tr>\n",
       "    <tr>\n",
       "      <th>2</th>\n",
       "      <td>3</td>\n",
       "      <td>这个杀手不太冷</td>\n",
       "      <td>1994</td>\n",
       "      <td>法国</td>\n",
       "      <td>['剧情 动作 犯罪']</td>\n",
       "      <td>9.4</td>\n",
       "      <td>912435</td>\n",
       "      <td>['英语', '意大利语', '法语']</td>\n",
       "      <td>['吕克·贝松 Luc Besson']</td>\n",
       "      <td>['让·雷诺 Jean Reno', '娜塔莉·波特曼 Natalie Portman', ...</td>\n",
       "      <td>['110分钟(剧场版)', '133分钟(国际版)']</td>\n",
       "      <td>[{'count': 150097, 'name': '经典'}, {'count': 85...</td>\n",
       "    </tr>\n",
       "    <tr>\n",
       "      <th>3</th>\n",
       "      <td>4</td>\n",
       "      <td>阿甘正传</td>\n",
       "      <td>1994</td>\n",
       "      <td>美国</td>\n",
       "      <td>['剧情 爱情']</td>\n",
       "      <td>9.4</td>\n",
       "      <td>775889</td>\n",
       "      <td>['英语']</td>\n",
       "      <td>['Robert Zemeckis']</td>\n",
       "      <td>['Tom Hanks', 'Robin Wright Penn', 'Gary Sinis...</td>\n",
       "      <td>['142 分钟']</td>\n",
       "      <td>[{'count': 179046, 'name': '励志'}, {'count': 13...</td>\n",
       "    </tr>\n",
       "    <tr>\n",
       "      <th>4</th>\n",
       "      <td>5</td>\n",
       "      <td>美丽人生</td>\n",
       "      <td>1997</td>\n",
       "      <td>意大利</td>\n",
       "      <td>['剧情 喜剧 爱情 战争']</td>\n",
       "      <td>9.5</td>\n",
       "      <td>453651</td>\n",
       "      <td>['意大利语', '德语', '英语']</td>\n",
       "      <td>['罗伯托·贝尼尼 Roberto Benigni']</td>\n",
       "      <td>['罗伯托·贝尼尼 Roberto Benigni', '尼可莱塔·布拉斯基 Nicolet...</td>\n",
       "      <td>['116分钟']</td>\n",
       "      <td>[{'count': 70710, 'name': '意大利'}, {'count': 67...</td>\n",
       "    </tr>\n",
       "  </tbody>\n",
       "</table>\n",
       "</div>"
      ],
      "text/plain": [
       "   num    title init_year     area            genre  rating_num  comment_num  \\\n",
       "0    1   肖申克的救赎      1994       美国        ['犯罪 剧情']         9.6       964842   \n",
       "1    2     霸王别姬      1993  中国大陆 香港     ['剧情 爱情 同性']         9.5       699930   \n",
       "2    3  这个杀手不太冷      1994       法国     ['剧情 动作 犯罪']         9.4       912435   \n",
       "3    4     阿甘正传      1994       美国        ['剧情 爱情']         9.4       775889   \n",
       "4    5     美丽人生      1997      意大利  ['剧情 喜剧 爱情 战争']         9.5       453651   \n",
       "\n",
       "               language                     director  \\\n",
       "0                ['英语']  ['弗兰克·德拉邦特 Frank Darabont']   \n",
       "1             ['汉语普通话']           ['陈凯歌 Kaige Chen']   \n",
       "2  ['英语', '意大利语', '法语']         ['吕克·贝松 Luc Besson']   \n",
       "3                ['英语']          ['Robert Zemeckis']   \n",
       "4  ['意大利语', '德语', '英语']  ['罗伯托·贝尼尼 Roberto Benigni']   \n",
       "\n",
       "                                                cast  \\\n",
       "0  ['蒂姆·罗宾斯 Tim Robbins', '摩根·弗里曼 Morgan Freeman'...   \n",
       "1  ['张国荣 Leslie Cheung', '张丰毅 Fengyi Zhang', '巩俐 ...   \n",
       "2  ['让·雷诺 Jean Reno', '娜塔莉·波特曼 Natalie Portman', ...   \n",
       "3  ['Tom Hanks', 'Robin Wright Penn', 'Gary Sinis...   \n",
       "4  ['罗伯托·贝尼尼 Roberto Benigni', '尼可莱塔·布拉斯基 Nicolet...   \n",
       "\n",
       "                 movie_duration  \\\n",
       "0                    ['142 分钟']   \n",
       "1                    ['171 分钟']   \n",
       "2  ['110分钟(剧场版)', '133分钟(国际版)']   \n",
       "3                    ['142 分钟']   \n",
       "4                     ['116分钟']   \n",
       "\n",
       "                                                tags  \n",
       "0  [{'count': 197742, 'name': '经典'}, {'count': 16...  \n",
       "1  [{'count': 124150, 'name': '经典'}, {'count': 63...  \n",
       "2  [{'count': 150097, 'name': '经典'}, {'count': 85...  \n",
       "3  [{'count': 179046, 'name': '励志'}, {'count': 13...  \n",
       "4  [{'count': 70710, 'name': '意大利'}, {'count': 67...  "
      ]
     },
     "execution_count": 4,
     "metadata": {},
     "output_type": "execute_result"
    }
   ],
   "source": [
    "# 数据分布在两个文件中，我们选取 top250_f1.csv 文件中的 num(排名）、 title(电影名)、 init_year(上映时间)、 area（国家/地区）、\n",
    "# genre(类型）、 rating_num(评分)、 comment_num(评价人数)，和 top250_f2.csv 文件中的 language(语言)、 director（导演）、\n",
    "# cast(主演)、 movie_duration(时长)、 tags(标签)这些列进行分析，因此只对这些列中的脏数据做清洗工作。\n",
    "df_1_cut = df_1[['num','title','init_year','area','genre','rating_num','comment_num']]\n",
    "df_2_cut = df_2[['num','language','director','cast','movie_duration','tags']]\n",
    "df = pd.merge(df_1_cut,df_2_cut,how = 'outer', on = 'num')\n",
    "df.head() # 查看前5条信息\n",
    "#df.tail()#查看后5条信息"
   ]
  },
  {
   "cell_type": "markdown",
   "metadata": {},
   "source": [
    "### 2.2、查看数据，了解更多数据信息"
   ]
  },
  {
   "cell_type": "code",
   "execution_count": 5,
   "metadata": {},
   "outputs": [
    {
     "name": "stdout",
     "output_type": "stream",
     "text": [
      "<class 'pandas.core.frame.DataFrame'>\n",
      "Int64Index: 250 entries, 0 to 249\n",
      "Data columns (total 12 columns):\n",
      "num               250 non-null int64\n",
      "title             250 non-null object\n",
      "init_year         250 non-null object\n",
      "area              250 non-null object\n",
      "genre             250 non-null object\n",
      "rating_num        250 non-null float64\n",
      "comment_num       250 non-null int64\n",
      "language          250 non-null object\n",
      "director          250 non-null object\n",
      "cast              250 non-null object\n",
      "movie_duration    250 non-null object\n",
      "tags              250 non-null object\n",
      "dtypes: float64(1), int64(2), object(9)\n",
      "memory usage: 25.4+ KB\n"
     ]
    }
   ],
   "source": [
    "# 查看一下数据集基本信息\n",
    "df.info()"
   ]
  },
  {
   "cell_type": "markdown",
   "metadata": {},
   "source": [
    "### 2.3、数据查重"
   ]
  },
  {
   "cell_type": "code",
   "execution_count": 6,
   "metadata": {},
   "outputs": [
    {
     "data": {
      "text/plain": [
       "0    False\n",
       "1    False\n",
       "2    False\n",
       "3    False\n",
       "4    False\n",
       "dtype: bool"
      ]
     },
     "execution_count": 6,
     "metadata": {},
     "output_type": "execute_result"
    }
   ],
   "source": [
    "# 检查重复值可以用 duplicated() 函数，若返回值为“True”，则含有重复项，返回值为“False”,则不含重复项\n",
    "df.duplicated().head()"
   ]
  },
  {
   "cell_type": "code",
   "execution_count": 7,
   "metadata": {},
   "outputs": [
    {
     "data": {
      "text/plain": [
       "False    250\n",
       "dtype: int64"
      ]
     },
     "execution_count": 7,
     "metadata": {},
     "output_type": "execute_result"
    }
   ],
   "source": [
    "#统计有多少个False\n",
    "df.duplicated().value_counts()"
   ]
  },
  {
   "cell_type": "code",
   "execution_count": 8,
   "metadata": {},
   "outputs": [
    {
     "data": {
      "text/plain": [
       "250"
      ]
     },
     "execution_count": 8,
     "metadata": {},
     "output_type": "execute_result"
    }
   ],
   "source": [
    "# 检查是否有重名电影：\n",
    "len(df.title.unique())"
   ]
  },
  {
   "cell_type": "code",
   "execution_count": 9,
   "metadata": {},
   "outputs": [
    {
     "data": {
      "text/plain": [
       "250"
      ]
     },
     "execution_count": 9,
     "metadata": {},
     "output_type": "execute_result"
    }
   ],
   "source": [
    "# 检查是否有并列排名：\n",
    "len(df.num.unique())"
   ]
  },
  {
   "cell_type": "markdown",
   "metadata": {},
   "source": [
    "### 2.4、清洗数据格式、数据分列"
   ]
  },
  {
   "cell_type": "code",
   "execution_count": 10,
   "metadata": {},
   "outputs": [
    {
     "data": {
      "text/html": [
       "<div>\n",
       "<style>\n",
       "    .dataframe thead tr:only-child th {\n",
       "        text-align: right;\n",
       "    }\n",
       "\n",
       "    .dataframe thead th {\n",
       "        text-align: left;\n",
       "    }\n",
       "\n",
       "    .dataframe tbody tr th {\n",
       "        vertical-align: top;\n",
       "    }\n",
       "</style>\n",
       "<table border=\"1\" class=\"dataframe\">\n",
       "  <thead>\n",
       "    <tr style=\"text-align: right;\">\n",
       "      <th></th>\n",
       "      <th>num</th>\n",
       "      <th>title</th>\n",
       "      <th>init_year</th>\n",
       "      <th>area</th>\n",
       "      <th>genre</th>\n",
       "      <th>rating_num</th>\n",
       "      <th>comment_num</th>\n",
       "      <th>language</th>\n",
       "      <th>director</th>\n",
       "      <th>cast</th>\n",
       "      <th>movie_duration</th>\n",
       "      <th>tags</th>\n",
       "    </tr>\n",
       "  </thead>\n",
       "  <tbody>\n",
       "    <tr>\n",
       "      <th>0</th>\n",
       "      <td>1</td>\n",
       "      <td>肖申克的救赎</td>\n",
       "      <td>1994</td>\n",
       "      <td>美国</td>\n",
       "      <td>犯罪 剧情</td>\n",
       "      <td>9.6</td>\n",
       "      <td>964842</td>\n",
       "      <td>英语</td>\n",
       "      <td>弗兰克·德拉邦特 Frank Darabont</td>\n",
       "      <td>蒂姆·罗宾斯 Tim Robbins', '摩根·弗里曼 Morgan Freeman', ...</td>\n",
       "      <td>142 分钟</td>\n",
       "      <td>[{'count': 197742, 'name': '经典'}, {'count': 16...</td>\n",
       "    </tr>\n",
       "    <tr>\n",
       "      <th>1</th>\n",
       "      <td>2</td>\n",
       "      <td>霸王别姬</td>\n",
       "      <td>1993</td>\n",
       "      <td>中国大陆 香港</td>\n",
       "      <td>剧情 爱情 同性</td>\n",
       "      <td>9.5</td>\n",
       "      <td>699930</td>\n",
       "      <td>汉语普通话</td>\n",
       "      <td>陈凯歌 Kaige Chen</td>\n",
       "      <td>张国荣 Leslie Cheung', '张丰毅 Fengyi Zhang', '巩俐 Li...</td>\n",
       "      <td>171 分钟</td>\n",
       "      <td>[{'count': 124150, 'name': '经典'}, {'count': 63...</td>\n",
       "    </tr>\n",
       "    <tr>\n",
       "      <th>2</th>\n",
       "      <td>3</td>\n",
       "      <td>这个杀手不太冷</td>\n",
       "      <td>1994</td>\n",
       "      <td>法国</td>\n",
       "      <td>剧情 动作 犯罪</td>\n",
       "      <td>9.4</td>\n",
       "      <td>912435</td>\n",
       "      <td>英语', '意大利语', '法语</td>\n",
       "      <td>吕克·贝松 Luc Besson</td>\n",
       "      <td>让·雷诺 Jean Reno', '娜塔莉·波特曼 Natalie Portman', '加...</td>\n",
       "      <td>110分钟(剧场版)', '133分钟(国际版)</td>\n",
       "      <td>[{'count': 150097, 'name': '经典'}, {'count': 85...</td>\n",
       "    </tr>\n",
       "    <tr>\n",
       "      <th>3</th>\n",
       "      <td>4</td>\n",
       "      <td>阿甘正传</td>\n",
       "      <td>1994</td>\n",
       "      <td>美国</td>\n",
       "      <td>剧情 爱情</td>\n",
       "      <td>9.4</td>\n",
       "      <td>775889</td>\n",
       "      <td>英语</td>\n",
       "      <td>Robert Zemeckis</td>\n",
       "      <td>Tom Hanks', 'Robin Wright Penn', 'Gary Sinise'...</td>\n",
       "      <td>142 分钟</td>\n",
       "      <td>[{'count': 179046, 'name': '励志'}, {'count': 13...</td>\n",
       "    </tr>\n",
       "    <tr>\n",
       "      <th>4</th>\n",
       "      <td>5</td>\n",
       "      <td>美丽人生</td>\n",
       "      <td>1997</td>\n",
       "      <td>意大利</td>\n",
       "      <td>剧情 喜剧 爱情 战争</td>\n",
       "      <td>9.5</td>\n",
       "      <td>453651</td>\n",
       "      <td>意大利语', '德语', '英语</td>\n",
       "      <td>罗伯托·贝尼尼 Roberto Benigni</td>\n",
       "      <td>罗伯托·贝尼尼 Roberto Benigni', '尼可莱塔·布拉斯基 Nicoletta...</td>\n",
       "      <td>116分钟</td>\n",
       "      <td>[{'count': 70710, 'name': '意大利'}, {'count': 67...</td>\n",
       "    </tr>\n",
       "  </tbody>\n",
       "</table>\n",
       "</div>"
      ],
      "text/plain": [
       "   num    title init_year     area        genre  rating_num  comment_num  \\\n",
       "0    1   肖申克的救赎      1994       美国        犯罪 剧情         9.6       964842   \n",
       "1    2     霸王别姬      1993  中国大陆 香港     剧情 爱情 同性         9.5       699930   \n",
       "2    3  这个杀手不太冷      1994       法国     剧情 动作 犯罪         9.4       912435   \n",
       "3    4     阿甘正传      1994       美国        剧情 爱情         9.4       775889   \n",
       "4    5     美丽人生      1997      意大利  剧情 喜剧 爱情 战争         9.5       453651   \n",
       "\n",
       "           language                 director  \\\n",
       "0                英语  弗兰克·德拉邦特 Frank Darabont   \n",
       "1             汉语普通话           陈凯歌 Kaige Chen   \n",
       "2  英语', '意大利语', '法语         吕克·贝松 Luc Besson   \n",
       "3                英语          Robert Zemeckis   \n",
       "4  意大利语', '德语', '英语  罗伯托·贝尼尼 Roberto Benigni   \n",
       "\n",
       "                                                cast  \\\n",
       "0  蒂姆·罗宾斯 Tim Robbins', '摩根·弗里曼 Morgan Freeman', ...   \n",
       "1  张国荣 Leslie Cheung', '张丰毅 Fengyi Zhang', '巩俐 Li...   \n",
       "2  让·雷诺 Jean Reno', '娜塔莉·波特曼 Natalie Portman', '加...   \n",
       "3  Tom Hanks', 'Robin Wright Penn', 'Gary Sinise'...   \n",
       "4  罗伯托·贝尼尼 Roberto Benigni', '尼可莱塔·布拉斯基 Nicoletta...   \n",
       "\n",
       "             movie_duration                                               tags  \n",
       "0                    142 分钟  [{'count': 197742, 'name': '经典'}, {'count': 16...  \n",
       "1                    171 分钟  [{'count': 124150, 'name': '经典'}, {'count': 63...  \n",
       "2  110分钟(剧场版)', '133分钟(国际版)  [{'count': 150097, 'name': '经典'}, {'count': 85...  \n",
       "3                    142 分钟  [{'count': 179046, 'name': '励志'}, {'count': 13...  \n",
       "4                     116分钟  [{'count': 70710, 'name': '意大利'}, {'count': 67...  "
      ]
     },
     "execution_count": 10,
     "metadata": {},
     "output_type": "execute_result"
    }
   ],
   "source": [
    "# 去掉以下几个字段两侧的 [' '] 形式，可以用str分割字符串。\n",
    "df['genre'] = df['genre'].str[2:-2]\n",
    "df['language'] = df['language'].str[2:-2]\n",
    "df['director'] = df['director'].str[2:-2]\n",
    "df['cast'] = df['cast'].str[2:-2]\n",
    "df['movie_duration'] = df['movie_duration'].str[2:-2]\n",
    "\n",
    "df.head()"
   ]
  },
  {
   "cell_type": "markdown",
   "metadata": {},
   "source": [
    "### 2.4.1、区域 (area) 列内容清洗"
   ]
  },
  {
   "cell_type": "code",
   "execution_count": 11,
   "metadata": {},
   "outputs": [
    {
     "data": {
      "text/html": [
       "<div>\n",
       "<style>\n",
       "    .dataframe thead tr:only-child th {\n",
       "        text-align: right;\n",
       "    }\n",
       "\n",
       "    .dataframe thead th {\n",
       "        text-align: left;\n",
       "    }\n",
       "\n",
       "    .dataframe tbody tr th {\n",
       "        vertical-align: top;\n",
       "    }\n",
       "</style>\n",
       "<table border=\"1\" class=\"dataframe\">\n",
       "  <thead>\n",
       "    <tr style=\"text-align: right;\">\n",
       "      <th></th>\n",
       "      <th>0</th>\n",
       "      <th>1</th>\n",
       "      <th>2</th>\n",
       "      <th>3</th>\n",
       "      <th>4</th>\n",
       "    </tr>\n",
       "  </thead>\n",
       "  <tbody>\n",
       "    <tr>\n",
       "      <th>0</th>\n",
       "      <td>美国</td>\n",
       "      <td>NaN</td>\n",
       "      <td>NaN</td>\n",
       "      <td>NaN</td>\n",
       "      <td>NaN</td>\n",
       "    </tr>\n",
       "    <tr>\n",
       "      <th>1</th>\n",
       "      <td>中国大陆</td>\n",
       "      <td>香港</td>\n",
       "      <td>NaN</td>\n",
       "      <td>NaN</td>\n",
       "      <td>NaN</td>\n",
       "    </tr>\n",
       "    <tr>\n",
       "      <th>2</th>\n",
       "      <td>法国</td>\n",
       "      <td>NaN</td>\n",
       "      <td>NaN</td>\n",
       "      <td>NaN</td>\n",
       "      <td>NaN</td>\n",
       "    </tr>\n",
       "    <tr>\n",
       "      <th>3</th>\n",
       "      <td>美国</td>\n",
       "      <td>NaN</td>\n",
       "      <td>NaN</td>\n",
       "      <td>NaN</td>\n",
       "      <td>NaN</td>\n",
       "    </tr>\n",
       "    <tr>\n",
       "      <th>4</th>\n",
       "      <td>意大利</td>\n",
       "      <td>NaN</td>\n",
       "      <td>NaN</td>\n",
       "      <td>NaN</td>\n",
       "      <td>NaN</td>\n",
       "    </tr>\n",
       "  </tbody>\n",
       "</table>\n",
       "</div>"
      ],
      "text/plain": [
       "      0    1    2    3    4\n",
       "0    美国  NaN  NaN  NaN  NaN\n",
       "1  中国大陆   香港  NaN  NaN  NaN\n",
       "2    法国  NaN  NaN  NaN  NaN\n",
       "3    美国  NaN  NaN  NaN  NaN\n",
       "4   意大利  NaN  NaN  NaN  NaN"
      ]
     },
     "execution_count": 11,
     "metadata": {},
     "output_type": "execute_result"
    }
   ],
   "source": [
    "# 对于 area 列，有些电影由多个国家或地区联合制作，例如《霸王别姬》电影：\n",
    "# 中国大陆 香港’ “中国大陆”和“香港”之间用空格隔开，可以用 str.split \n",
    "# 函数进行分列， 再应用apply(pd.Series)函数使其作用到每一行和列。\n",
    "area_split = df['area'].str.split(' ').apply(pd.Series)\n",
    "area_split.head()\n"
   ]
  },
  {
   "cell_type": "code",
   "execution_count": 12,
   "metadata": {},
   "outputs": [
    {
     "data": {
      "text/html": [
       "<div>\n",
       "<style>\n",
       "    .dataframe thead tr:only-child th {\n",
       "        text-align: right;\n",
       "    }\n",
       "\n",
       "    .dataframe thead th {\n",
       "        text-align: left;\n",
       "    }\n",
       "\n",
       "    .dataframe tbody tr th {\n",
       "        vertical-align: top;\n",
       "    }\n",
       "</style>\n",
       "<table border=\"1\" class=\"dataframe\">\n",
       "  <thead>\n",
       "    <tr style=\"text-align: right;\">\n",
       "      <th></th>\n",
       "      <th>counts</th>\n",
       "    </tr>\n",
       "  </thead>\n",
       "  <tbody>\n",
       "    <tr>\n",
       "      <th>中国大陆</th>\n",
       "      <td>16</td>\n",
       "    </tr>\n",
       "    <tr>\n",
       "      <th>丹麦</th>\n",
       "      <td>1</td>\n",
       "    </tr>\n",
       "    <tr>\n",
       "      <th>伊朗</th>\n",
       "      <td>2</td>\n",
       "    </tr>\n",
       "    <tr>\n",
       "      <th>冰岛</th>\n",
       "      <td>1</td>\n",
       "    </tr>\n",
       "    <tr>\n",
       "      <th>加拿大</th>\n",
       "      <td>7</td>\n",
       "    </tr>\n",
       "  </tbody>\n",
       "</table>\n",
       "</div>"
      ],
      "text/plain": [
       "      counts\n",
       "中国大陆      16\n",
       "丹麦         1\n",
       "伊朗         2\n",
       "冰岛         1\n",
       "加拿大        7"
      ]
     },
     "execution_count": 12,
     "metadata": {},
     "output_type": "execute_result"
    }
   ],
   "source": [
    "# 对每一列的值重合的作了一个汇总统计，同时NaN值用0填充\n",
    "a = area_split.apply(pd.value_counts).fillna('0') \n",
    "# # 分别用：'area_1',...'area-5’重新填充a表里每列\n",
    "a.columns = ['area_1','area_2','area_3','area_4','area_5']\n",
    "a['area_1'] = a['area_1'].astype(int)\n",
    "a['area_2'] = a['area_2'].astype(int)\n",
    "a['area_3'] = a['area_3'].astype(int)\n",
    "a['area_4'] = a['area_4'].astype(int)\n",
    "a['area_5'] = a['area_5'].astype(int)\n",
    "\n",
    "# # 将每一行的数据汇总后，变成一列显示 （axis=1代表行汇总）\n",
    "a = a.apply(lambda x: x.sum(),axis =1)\n",
    "\n",
    "# # 包装成一个标准的DataFrame\n",
    "area_c = pd.DataFrame(a, columns = ['counts'])\n",
    "area_c.head()\n",
    "# area_c.sort_values(by='counts',ascending=False).head()"
   ]
  },
  {
   "cell_type": "markdown",
   "metadata": {},
   "source": [
    "### 2.4.2、电影类型（genre）列内容清洗"
   ]
  },
  {
   "cell_type": "code",
   "execution_count": 13,
   "metadata": {},
   "outputs": [
    {
     "data": {
      "text/html": [
       "<div>\n",
       "<style>\n",
       "    .dataframe thead tr:only-child th {\n",
       "        text-align: right;\n",
       "    }\n",
       "\n",
       "    .dataframe thead th {\n",
       "        text-align: left;\n",
       "    }\n",
       "\n",
       "    .dataframe tbody tr th {\n",
       "        vertical-align: top;\n",
       "    }\n",
       "</style>\n",
       "<table border=\"1\" class=\"dataframe\">\n",
       "  <thead>\n",
       "    <tr style=\"text-align: right;\">\n",
       "      <th></th>\n",
       "      <th>0</th>\n",
       "      <th>1</th>\n",
       "      <th>2</th>\n",
       "      <th>3</th>\n",
       "      <th>4</th>\n",
       "      <th>5</th>\n",
       "    </tr>\n",
       "  </thead>\n",
       "  <tbody>\n",
       "    <tr>\n",
       "      <th>0</th>\n",
       "      <td>犯罪</td>\n",
       "      <td>剧情</td>\n",
       "      <td>NaN</td>\n",
       "      <td>NaN</td>\n",
       "      <td>NaN</td>\n",
       "      <td>NaN</td>\n",
       "    </tr>\n",
       "    <tr>\n",
       "      <th>1</th>\n",
       "      <td>剧情</td>\n",
       "      <td>爱情</td>\n",
       "      <td>同性</td>\n",
       "      <td>NaN</td>\n",
       "      <td>NaN</td>\n",
       "      <td>NaN</td>\n",
       "    </tr>\n",
       "    <tr>\n",
       "      <th>2</th>\n",
       "      <td>剧情</td>\n",
       "      <td>动作</td>\n",
       "      <td>犯罪</td>\n",
       "      <td>NaN</td>\n",
       "      <td>NaN</td>\n",
       "      <td>NaN</td>\n",
       "    </tr>\n",
       "    <tr>\n",
       "      <th>3</th>\n",
       "      <td>剧情</td>\n",
       "      <td>爱情</td>\n",
       "      <td>NaN</td>\n",
       "      <td>NaN</td>\n",
       "      <td>NaN</td>\n",
       "      <td>NaN</td>\n",
       "    </tr>\n",
       "    <tr>\n",
       "      <th>4</th>\n",
       "      <td>剧情</td>\n",
       "      <td>喜剧</td>\n",
       "      <td>爱情</td>\n",
       "      <td>战争</td>\n",
       "      <td>NaN</td>\n",
       "      <td>NaN</td>\n",
       "    </tr>\n",
       "  </tbody>\n",
       "</table>\n",
       "</div>"
      ],
      "text/plain": [
       "    0   1    2    3    4    5\n",
       "0  犯罪  剧情  NaN  NaN  NaN  NaN\n",
       "1  剧情  爱情   同性  NaN  NaN  NaN\n",
       "2  剧情  动作   犯罪  NaN  NaN  NaN\n",
       "3  剧情  爱情  NaN  NaN  NaN  NaN\n",
       "4  剧情  喜剧   爱情   战争  NaN  NaN"
      ]
     },
     "execution_count": 13,
     "metadata": {},
     "output_type": "execute_result"
    }
   ],
   "source": [
    "# 对电影类型进行拆分（空格分隔）利用apply(pd.Series)应用到每一行\n",
    "genre_split = df['genre'].str.split(' ').apply(pd.Series)\n",
    "genre_split.head()"
   ]
  },
  {
   "cell_type": "code",
   "execution_count": 14,
   "metadata": {},
   "outputs": [
    {
     "data": {
      "text/html": [
       "<div>\n",
       "<style>\n",
       "    .dataframe thead tr:only-child th {\n",
       "        text-align: right;\n",
       "    }\n",
       "\n",
       "    .dataframe thead th {\n",
       "        text-align: left;\n",
       "    }\n",
       "\n",
       "    .dataframe tbody tr th {\n",
       "        vertical-align: top;\n",
       "    }\n",
       "</style>\n",
       "<table border=\"1\" class=\"dataframe\">\n",
       "  <thead>\n",
       "    <tr style=\"text-align: right;\">\n",
       "      <th></th>\n",
       "      <th>0</th>\n",
       "      <th>1</th>\n",
       "      <th>2</th>\n",
       "      <th>3</th>\n",
       "      <th>4</th>\n",
       "      <th>5</th>\n",
       "    </tr>\n",
       "  </thead>\n",
       "  <tbody>\n",
       "    <tr>\n",
       "      <th>传记</th>\n",
       "      <td>2.0</td>\n",
       "      <td>12.0</td>\n",
       "      <td>NaN</td>\n",
       "      <td>NaN</td>\n",
       "      <td>NaN</td>\n",
       "      <td>NaN</td>\n",
       "    </tr>\n",
       "    <tr>\n",
       "      <th>儿童</th>\n",
       "      <td>2.0</td>\n",
       "      <td>2.0</td>\n",
       "      <td>2.0</td>\n",
       "      <td>NaN</td>\n",
       "      <td>NaN</td>\n",
       "      <td>NaN</td>\n",
       "    </tr>\n",
       "    <tr>\n",
       "      <th>冒险</th>\n",
       "      <td>6.0</td>\n",
       "      <td>4.0</td>\n",
       "      <td>13.0</td>\n",
       "      <td>14.0</td>\n",
       "      <td>2.0</td>\n",
       "      <td>1.0</td>\n",
       "    </tr>\n",
       "    <tr>\n",
       "      <th>剧情</th>\n",
       "      <td>165.0</td>\n",
       "      <td>25.0</td>\n",
       "      <td>5.0</td>\n",
       "      <td>NaN</td>\n",
       "      <td>NaN</td>\n",
       "      <td>NaN</td>\n",
       "    </tr>\n",
       "    <tr>\n",
       "      <th>动作</th>\n",
       "      <td>14.0</td>\n",
       "      <td>14.0</td>\n",
       "      <td>2.0</td>\n",
       "      <td>NaN</td>\n",
       "      <td>NaN</td>\n",
       "      <td>NaN</td>\n",
       "    </tr>\n",
       "  </tbody>\n",
       "</table>\n",
       "</div>"
      ],
      "text/plain": [
       "        0     1     2     3    4    5\n",
       "传记    2.0  12.0   NaN   NaN  NaN  NaN\n",
       "儿童    2.0   2.0   2.0   NaN  NaN  NaN\n",
       "冒险    6.0   4.0  13.0  14.0  2.0  1.0\n",
       "剧情  165.0  25.0   5.0   NaN  NaN  NaN\n",
       "动作   14.0  14.0   2.0   NaN  NaN  NaN"
      ]
     },
     "execution_count": 14,
     "metadata": {},
     "output_type": "execute_result"
    }
   ],
   "source": [
    "# 对每一列的值重合的作了一个汇总统计\n",
    "g = genre_split.apply(pd.value_counts)\n",
    "g.head()"
   ]
  },
  {
   "cell_type": "code",
   "execution_count": 15,
   "metadata": {},
   "outputs": [
    {
     "data": {
      "text/html": [
       "<div>\n",
       "<style>\n",
       "    .dataframe thead tr:only-child th {\n",
       "        text-align: right;\n",
       "    }\n",
       "\n",
       "    .dataframe thead th {\n",
       "        text-align: left;\n",
       "    }\n",
       "\n",
       "    .dataframe tbody tr th {\n",
       "        vertical-align: top;\n",
       "    }\n",
       "</style>\n",
       "<table border=\"1\" class=\"dataframe\">\n",
       "  <thead>\n",
       "    <tr style=\"text-align: right;\">\n",
       "      <th></th>\n",
       "      <th>level_0</th>\n",
       "      <th>level_1</th>\n",
       "      <th>0</th>\n",
       "    </tr>\n",
       "  </thead>\n",
       "  <tbody>\n",
       "    <tr>\n",
       "      <th>0</th>\n",
       "      <td>0</td>\n",
       "      <td>传记</td>\n",
       "      <td>2.0</td>\n",
       "    </tr>\n",
       "    <tr>\n",
       "      <th>1</th>\n",
       "      <td>0</td>\n",
       "      <td>儿童</td>\n",
       "      <td>2.0</td>\n",
       "    </tr>\n",
       "    <tr>\n",
       "      <th>2</th>\n",
       "      <td>0</td>\n",
       "      <td>冒险</td>\n",
       "      <td>6.0</td>\n",
       "    </tr>\n",
       "    <tr>\n",
       "      <th>3</th>\n",
       "      <td>0</td>\n",
       "      <td>剧情</td>\n",
       "      <td>165.0</td>\n",
       "    </tr>\n",
       "    <tr>\n",
       "      <th>4</th>\n",
       "      <td>0</td>\n",
       "      <td>动作</td>\n",
       "      <td>14.0</td>\n",
       "    </tr>\n",
       "  </tbody>\n",
       "</table>\n",
       "</div>"
      ],
      "text/plain": [
       "   level_0 level_1      0\n",
       "0        0      传记    2.0\n",
       "1        0      儿童    2.0\n",
       "2        0      冒险    6.0\n",
       "3        0      剧情  165.0\n",
       "4        0      动作   14.0"
      ]
     },
     "execution_count": 15,
     "metadata": {},
     "output_type": "execute_result"
    }
   ],
   "source": [
    "# 利用unstack（）函数作一个行列转换，\n",
    "# 同时删除NaN值，同时转换为DataFrame\n",
    "g = g.unstack().dropna().reset_index()\n",
    "g.head()"
   ]
  },
  {
   "cell_type": "code",
   "execution_count": 16,
   "metadata": {},
   "outputs": [
    {
     "data": {
      "text/html": [
       "<div>\n",
       "<style>\n",
       "    .dataframe thead tr:only-child th {\n",
       "        text-align: right;\n",
       "    }\n",
       "\n",
       "    .dataframe thead th {\n",
       "        text-align: left;\n",
       "    }\n",
       "\n",
       "    .dataframe tbody tr th {\n",
       "        vertical-align: top;\n",
       "    }\n",
       "</style>\n",
       "<table border=\"1\" class=\"dataframe\">\n",
       "  <thead>\n",
       "    <tr style=\"text-align: right;\">\n",
       "      <th></th>\n",
       "      <th>counts</th>\n",
       "    </tr>\n",
       "    <tr>\n",
       "      <th>level_1</th>\n",
       "      <th></th>\n",
       "    </tr>\n",
       "  </thead>\n",
       "  <tbody>\n",
       "    <tr>\n",
       "      <th>剧情</th>\n",
       "      <td>195.0</td>\n",
       "    </tr>\n",
       "    <tr>\n",
       "      <th>爱情</th>\n",
       "      <td>61.0</td>\n",
       "    </tr>\n",
       "    <tr>\n",
       "      <th>喜剧</th>\n",
       "      <td>48.0</td>\n",
       "    </tr>\n",
       "    <tr>\n",
       "      <th>犯罪</th>\n",
       "      <td>45.0</td>\n",
       "    </tr>\n",
       "    <tr>\n",
       "      <th>冒险</th>\n",
       "      <td>40.0</td>\n",
       "    </tr>\n",
       "  </tbody>\n",
       "</table>\n",
       "</div>"
      ],
      "text/plain": [
       "         counts\n",
       "level_1        \n",
       "剧情        195.0\n",
       "爱情         61.0\n",
       "喜剧         48.0\n",
       "犯罪         45.0\n",
       "冒险         40.0"
      ]
     },
     "execution_count": 16,
     "metadata": {},
     "output_type": "execute_result"
    }
   ],
   "source": [
    "# 把数据进行列命名\n",
    "g.columns = ['level_0','level_1', 'counts']\n",
    "# 删除‘level_0'(第一列)，同时按照 ’level_1'字段的值进行分组，同时汇总\n",
    "genre_c = g.drop(['level_0'],axis = 1).groupby('level_1').sum()\n",
    "# 按‘counts’字段降序排列\n",
    "genre_c.sort_values('counts',ascending=False).head()"
   ]
  },
  {
   "cell_type": "markdown",
   "metadata": {},
   "source": [
    "### 2.4.3、电影语言（language）列内容清洗"
   ]
  },
  {
   "cell_type": "code",
   "execution_count": 17,
   "metadata": {},
   "outputs": [
    {
     "data": {
      "text/html": [
       "<div>\n",
       "<style>\n",
       "    .dataframe thead tr:only-child th {\n",
       "        text-align: right;\n",
       "    }\n",
       "\n",
       "    .dataframe thead th {\n",
       "        text-align: left;\n",
       "    }\n",
       "\n",
       "    .dataframe tbody tr th {\n",
       "        vertical-align: top;\n",
       "    }\n",
       "</style>\n",
       "<table border=\"1\" class=\"dataframe\">\n",
       "  <thead>\n",
       "    <tr style=\"text-align: right;\">\n",
       "      <th></th>\n",
       "      <th>0</th>\n",
       "      <th>1</th>\n",
       "      <th>2</th>\n",
       "      <th>3</th>\n",
       "      <th>4</th>\n",
       "      <th>5</th>\n",
       "      <th>6</th>\n",
       "      <th>7</th>\n",
       "      <th>8</th>\n",
       "    </tr>\n",
       "  </thead>\n",
       "  <tbody>\n",
       "    <tr>\n",
       "      <th>0</th>\n",
       "      <td>英语</td>\n",
       "      <td>NaN</td>\n",
       "      <td>NaN</td>\n",
       "      <td>NaN</td>\n",
       "      <td>NaN</td>\n",
       "      <td>NaN</td>\n",
       "      <td>NaN</td>\n",
       "      <td>NaN</td>\n",
       "      <td>NaN</td>\n",
       "    </tr>\n",
       "    <tr>\n",
       "      <th>1</th>\n",
       "      <td>汉语普通话</td>\n",
       "      <td>NaN</td>\n",
       "      <td>NaN</td>\n",
       "      <td>NaN</td>\n",
       "      <td>NaN</td>\n",
       "      <td>NaN</td>\n",
       "      <td>NaN</td>\n",
       "      <td>NaN</td>\n",
       "      <td>NaN</td>\n",
       "    </tr>\n",
       "    <tr>\n",
       "      <th>2</th>\n",
       "      <td>英语</td>\n",
       "      <td>意大利语</td>\n",
       "      <td>法语</td>\n",
       "      <td>NaN</td>\n",
       "      <td>NaN</td>\n",
       "      <td>NaN</td>\n",
       "      <td>NaN</td>\n",
       "      <td>NaN</td>\n",
       "      <td>NaN</td>\n",
       "    </tr>\n",
       "    <tr>\n",
       "      <th>3</th>\n",
       "      <td>英语</td>\n",
       "      <td>NaN</td>\n",
       "      <td>NaN</td>\n",
       "      <td>NaN</td>\n",
       "      <td>NaN</td>\n",
       "      <td>NaN</td>\n",
       "      <td>NaN</td>\n",
       "      <td>NaN</td>\n",
       "      <td>NaN</td>\n",
       "    </tr>\n",
       "    <tr>\n",
       "      <th>4</th>\n",
       "      <td>意大利语</td>\n",
       "      <td>德语</td>\n",
       "      <td>英语</td>\n",
       "      <td>NaN</td>\n",
       "      <td>NaN</td>\n",
       "      <td>NaN</td>\n",
       "      <td>NaN</td>\n",
       "      <td>NaN</td>\n",
       "      <td>NaN</td>\n",
       "    </tr>\n",
       "  </tbody>\n",
       "</table>\n",
       "</div>"
      ],
      "text/plain": [
       "       0     1    2    3    4    5    6    7    8\n",
       "0     英语   NaN  NaN  NaN  NaN  NaN  NaN  NaN  NaN\n",
       "1  汉语普通话   NaN  NaN  NaN  NaN  NaN  NaN  NaN  NaN\n",
       "2     英语  意大利语   法语  NaN  NaN  NaN  NaN  NaN  NaN\n",
       "3     英语   NaN  NaN  NaN  NaN  NaN  NaN  NaN  NaN\n",
       "4   意大利语    德语   英语  NaN  NaN  NaN  NaN  NaN  NaN"
      ]
     },
     "execution_count": 17,
     "metadata": {},
     "output_type": "execute_result"
    }
   ],
   "source": [
    "# 类似的方法来处理：Language 列\n",
    "#把语言中的','替换成空格，并通过空格进行分割，最后在转换为Dataframe格式\n",
    "language_split = df['language'].str.replace('\\', \\'',' ').str.split(' ').apply(pd.Series)\n",
    "language_split.head()"
   ]
  },
  {
   "cell_type": "code",
   "execution_count": 18,
   "metadata": {},
   "outputs": [
    {
     "data": {
      "text/html": [
       "<div>\n",
       "<style>\n",
       "    .dataframe thead tr:only-child th {\n",
       "        text-align: right;\n",
       "    }\n",
       "\n",
       "    .dataframe thead th {\n",
       "        text-align: left;\n",
       "    }\n",
       "\n",
       "    .dataframe tbody tr th {\n",
       "        vertical-align: top;\n",
       "    }\n",
       "</style>\n",
       "<table border=\"1\" class=\"dataframe\">\n",
       "  <thead>\n",
       "    <tr style=\"text-align: right;\">\n",
       "      <th></th>\n",
       "      <th>level_0</th>\n",
       "      <th>level_1</th>\n",
       "      <th>0</th>\n",
       "    </tr>\n",
       "  </thead>\n",
       "  <tbody>\n",
       "    <tr>\n",
       "      <th>0</th>\n",
       "      <td>Ungwatsi</td>\n",
       "      <td>2</td>\n",
       "      <td>1.0</td>\n",
       "    </tr>\n",
       "    <tr>\n",
       "      <th>1</th>\n",
       "      <td>上海话</td>\n",
       "      <td>1</td>\n",
       "      <td>1.0</td>\n",
       "    </tr>\n",
       "    <tr>\n",
       "      <th>2</th>\n",
       "      <td>上海话</td>\n",
       "      <td>2</td>\n",
       "      <td>1.0</td>\n",
       "    </tr>\n",
       "    <tr>\n",
       "      <th>3</th>\n",
       "      <td>上海话</td>\n",
       "      <td>3</td>\n",
       "      <td>1.0</td>\n",
       "    </tr>\n",
       "    <tr>\n",
       "      <th>4</th>\n",
       "      <td>上海话</td>\n",
       "      <td>4</td>\n",
       "      <td>1.0</td>\n",
       "    </tr>\n",
       "  </tbody>\n",
       "</table>\n",
       "</div>"
      ],
      "text/plain": [
       "    level_0  level_1    0\n",
       "0  Ungwatsi        2  1.0\n",
       "1       上海话        1  1.0\n",
       "2       上海话        2  1.0\n",
       "3       上海话        3  1.0\n",
       "4       上海话        4  1.0"
      ]
     },
     "execution_count": 18,
     "metadata": {},
     "output_type": "execute_result"
    }
   ],
   "source": [
    "#通过值来进行统计，并进行行列转置，删除空值，最后添加行索引，并把层次化索引转成值\n",
    "l = language_split.apply(pd.value_counts).stack().dropna().reset_index()\n",
    "l.head()"
   ]
  },
  {
   "cell_type": "code",
   "execution_count": 19,
   "metadata": {},
   "outputs": [
    {
     "data": {
      "text/html": [
       "<div>\n",
       "<style>\n",
       "    .dataframe thead tr:only-child th {\n",
       "        text-align: right;\n",
       "    }\n",
       "\n",
       "    .dataframe thead th {\n",
       "        text-align: left;\n",
       "    }\n",
       "\n",
       "    .dataframe tbody tr th {\n",
       "        vertical-align: top;\n",
       "    }\n",
       "</style>\n",
       "<table border=\"1\" class=\"dataframe\">\n",
       "  <thead>\n",
       "    <tr style=\"text-align: right;\">\n",
       "      <th></th>\n",
       "      <th>counts</th>\n",
       "    </tr>\n",
       "    <tr>\n",
       "      <th>level_0</th>\n",
       "      <th></th>\n",
       "    </tr>\n",
       "  </thead>\n",
       "  <tbody>\n",
       "    <tr>\n",
       "      <th>Ungwatsi</th>\n",
       "      <td>1.0</td>\n",
       "    </tr>\n",
       "    <tr>\n",
       "      <th>上海话</th>\n",
       "      <td>4.0</td>\n",
       "    </tr>\n",
       "    <tr>\n",
       "      <th>世界语</th>\n",
       "      <td>1.0</td>\n",
       "    </tr>\n",
       "    <tr>\n",
       "      <th>丹麦语</th>\n",
       "      <td>2.0</td>\n",
       "    </tr>\n",
       "    <tr>\n",
       "      <th>乌克兰语</th>\n",
       "      <td>1.0</td>\n",
       "    </tr>\n",
       "  </tbody>\n",
       "</table>\n",
       "</div>"
      ],
      "text/plain": [
       "          counts\n",
       "level_0         \n",
       "Ungwatsi     1.0\n",
       "上海话          4.0\n",
       "世界语          1.0\n",
       "丹麦语          2.0\n",
       "乌克兰语         1.0"
      ]
     },
     "execution_count": 19,
     "metadata": {},
     "output_type": "execute_result"
    }
   ],
   "source": [
    "#设置列索引名称\n",
    "l.columns = ['level_0','level_1', 'counts']\n",
    "#通过level_0分组求和\n",
    "language_c = l.groupby('level_0').sum()\n",
    "#删除level_1这一列\n",
    "language_c = language_c.drop(['level_1'],axis = 1)\n",
    "language_c.head()\n",
    "#获取语言所对应的次数\n",
    "# language_c['counts']['上海话']"
   ]
  },
  {
   "cell_type": "markdown",
   "metadata": {},
   "source": [
    "### 2.4.4、电影导演（director ）列内容清洗"
   ]
  },
  {
   "cell_type": "code",
   "execution_count": 20,
   "metadata": {},
   "outputs": [
    {
     "data": {
      "text/plain": [
       "0    弗兰克·德拉邦特 Frank Darabont\n",
       "1             陈凯歌 Kaige Chen\n",
       "2           吕克·贝松 Luc Besson\n",
       "3            Robert Zemeckis\n",
       "4    罗伯托·贝尼尼 Roberto Benigni\n",
       "Name: director, dtype: object"
      ]
     },
     "execution_count": 20,
     "metadata": {},
     "output_type": "execute_result"
    }
   ],
   "source": [
    "# 处理director 列：\n",
    "# df['director'].head()\n",
    "director_split = df['director'].str.replace('\\', \\'','#').str.split('#').apply(pd.Series)\n",
    "director = director_split[0].str.strip()\n",
    "df['director'] = director\n",
    "df['director'].head()\n",
    "# df['director'].str.replace('\\', \\'','#').str.split('#').apply(pd.Series)[0].str.strip()"
   ]
  },
  {
   "cell_type": "markdown",
   "metadata": {},
   "source": [
    "### 2.4.5、电影演员（cast ）列内容清洗"
   ]
  },
  {
   "cell_type": "code",
   "execution_count": 21,
   "metadata": {},
   "outputs": [
    {
     "data": {
      "text/html": [
       "<div>\n",
       "<style>\n",
       "    .dataframe thead tr:only-child th {\n",
       "        text-align: right;\n",
       "    }\n",
       "\n",
       "    .dataframe thead th {\n",
       "        text-align: left;\n",
       "    }\n",
       "\n",
       "    .dataframe tbody tr th {\n",
       "        vertical-align: top;\n",
       "    }\n",
       "</style>\n",
       "<table border=\"1\" class=\"dataframe\">\n",
       "  <thead>\n",
       "    <tr style=\"text-align: right;\">\n",
       "      <th></th>\n",
       "      <th>0</th>\n",
       "      <th>1</th>\n",
       "      <th>2</th>\n",
       "      <th>3</th>\n",
       "      <th>4</th>\n",
       "      <th>5</th>\n",
       "      <th>6</th>\n",
       "      <th>7</th>\n",
       "      <th>8</th>\n",
       "      <th>9</th>\n",
       "      <th>...</th>\n",
       "      <th>34</th>\n",
       "      <th>35</th>\n",
       "      <th>36</th>\n",
       "      <th>37</th>\n",
       "      <th>38</th>\n",
       "      <th>39</th>\n",
       "      <th>40</th>\n",
       "      <th>41</th>\n",
       "      <th>42</th>\n",
       "      <th>43</th>\n",
       "    </tr>\n",
       "  </thead>\n",
       "  <tbody>\n",
       "    <tr>\n",
       "      <th>0</th>\n",
       "      <td>蒂姆·罗宾斯 Tim Robbins</td>\n",
       "      <td>摩根·弗里曼 Morgan Freeman</td>\n",
       "      <td>鲍勃·冈顿 Bob Gunton</td>\n",
       "      <td>威廉姆·赛德勒 William Sadler</td>\n",
       "      <td>克兰西·布朗 Clancy Brown</td>\n",
       "      <td>吉尔·贝罗斯 Gil Bellows</td>\n",
       "      <td>马克·罗斯顿 Mark Rolston</td>\n",
       "      <td>詹姆斯·惠特摩 James Whitmore</td>\n",
       "      <td>杰弗里·德曼 Jeffrey DeMunn</td>\n",
       "      <td>拉里·布兰登伯格 Larry Brandenburg</td>\n",
       "      <td>...</td>\n",
       "      <td>NaN</td>\n",
       "      <td>NaN</td>\n",
       "      <td>NaN</td>\n",
       "      <td>NaN</td>\n",
       "      <td>NaN</td>\n",
       "      <td>NaN</td>\n",
       "      <td>NaN</td>\n",
       "      <td>NaN</td>\n",
       "      <td>NaN</td>\n",
       "      <td>NaN</td>\n",
       "    </tr>\n",
       "    <tr>\n",
       "      <th>1</th>\n",
       "      <td>张国荣 Leslie Cheung</td>\n",
       "      <td>张丰毅 Fengyi Zhang</td>\n",
       "      <td>巩俐 Li Gong</td>\n",
       "      <td>葛优 You Ge</td>\n",
       "      <td>英达 Da Ying</td>\n",
       "      <td>蒋雯丽 Wenli Jiang</td>\n",
       "      <td>吴大维 David Wu</td>\n",
       "      <td>吕齐 Qi Lü</td>\n",
       "      <td>雷汉 Han Lei</td>\n",
       "      <td>尹治 Zhi Yin</td>\n",
       "      <td>...</td>\n",
       "      <td>NaN</td>\n",
       "      <td>NaN</td>\n",
       "      <td>NaN</td>\n",
       "      <td>NaN</td>\n",
       "      <td>NaN</td>\n",
       "      <td>NaN</td>\n",
       "      <td>NaN</td>\n",
       "      <td>NaN</td>\n",
       "      <td>NaN</td>\n",
       "      <td>NaN</td>\n",
       "    </tr>\n",
       "    <tr>\n",
       "      <th>2</th>\n",
       "      <td>让·雷诺 Jean Reno</td>\n",
       "      <td>娜塔莉·波特曼 Natalie Portman</td>\n",
       "      <td>加里·奥德曼 Gary Oldman</td>\n",
       "      <td>丹尼·爱罗 Danny Aiello</td>\n",
       "      <td>彼得·阿佩尔 Peter Appel</td>\n",
       "      <td>迈克尔·巴达鲁科 Michael Badalucco</td>\n",
       "      <td>艾伦·格里尼 Ellen Greene</td>\n",
       "      <td>伊丽莎白·瑞根 Elizabeth Regen</td>\n",
       "      <td>卡尔·马图斯维奇 Carl J. Matusovich</td>\n",
       "      <td>弗兰克·赛格 Frank Senger</td>\n",
       "      <td>...</td>\n",
       "      <td>NaN</td>\n",
       "      <td>NaN</td>\n",
       "      <td>NaN</td>\n",
       "      <td>NaN</td>\n",
       "      <td>NaN</td>\n",
       "      <td>NaN</td>\n",
       "      <td>NaN</td>\n",
       "      <td>NaN</td>\n",
       "      <td>NaN</td>\n",
       "      <td>NaN</td>\n",
       "    </tr>\n",
       "    <tr>\n",
       "      <th>3</th>\n",
       "      <td>Tom Hanks</td>\n",
       "      <td>Robin Wright Penn</td>\n",
       "      <td>Gary Sinise</td>\n",
       "      <td>Mykelti Williamson</td>\n",
       "      <td>Sally Field</td>\n",
       "      <td>Michael Conner Humphreys</td>\n",
       "      <td>Haley Joel Osment</td>\n",
       "      <td>NaN</td>\n",
       "      <td>NaN</td>\n",
       "      <td>NaN</td>\n",
       "      <td>...</td>\n",
       "      <td>NaN</td>\n",
       "      <td>NaN</td>\n",
       "      <td>NaN</td>\n",
       "      <td>NaN</td>\n",
       "      <td>NaN</td>\n",
       "      <td>NaN</td>\n",
       "      <td>NaN</td>\n",
       "      <td>NaN</td>\n",
       "      <td>NaN</td>\n",
       "      <td>NaN</td>\n",
       "    </tr>\n",
       "    <tr>\n",
       "      <th>4</th>\n",
       "      <td>罗伯托·贝尼尼 Roberto Benigni</td>\n",
       "      <td>尼可莱塔·布拉斯基 Nicoletta Braschi</td>\n",
       "      <td>乔治·坎塔里尼 Giorgio Cantarini</td>\n",
       "      <td>朱斯蒂诺·杜拉诺 Giustino Durano</td>\n",
       "      <td>塞尔吉奥·比尼·布斯特里克 Sergio Bini Bustric</td>\n",
       "      <td>玛丽莎·佩雷德斯 Marisa Paredes</td>\n",
       "      <td>豪斯特·巴奇霍兹 Horst Buchholz</td>\n",
       "      <td>利迪娅·阿方西 Lidia Alfonsi</td>\n",
       "      <td>朱利亚娜·洛约迪切 Giuliana Lojodice</td>\n",
       "      <td>亚美利哥·丰塔尼 Amerigo Fontani</td>\n",
       "      <td>...</td>\n",
       "      <td>NaN</td>\n",
       "      <td>NaN</td>\n",
       "      <td>NaN</td>\n",
       "      <td>NaN</td>\n",
       "      <td>NaN</td>\n",
       "      <td>NaN</td>\n",
       "      <td>NaN</td>\n",
       "      <td>NaN</td>\n",
       "      <td>NaN</td>\n",
       "      <td>NaN</td>\n",
       "    </tr>\n",
       "  </tbody>\n",
       "</table>\n",
       "<p>5 rows × 44 columns</p>\n",
       "</div>"
      ],
      "text/plain": [
       "                        0                            1   \\\n",
       "0       蒂姆·罗宾斯 Tim Robbins        摩根·弗里曼 Morgan Freeman   \n",
       "1        张国荣 Leslie Cheung             张丰毅 Fengyi Zhang   \n",
       "2           让·雷诺 Jean Reno      娜塔莉·波特曼 Natalie Portman   \n",
       "3                Tom Hanks            Robin Wright Penn   \n",
       "4  罗伯托·贝尼尼 Roberto Benigni  尼可莱塔·布拉斯基 Nicoletta Braschi   \n",
       "\n",
       "                          2                         3   \\\n",
       "0           鲍勃·冈顿 Bob Gunton    威廉姆·赛德勒 William Sadler   \n",
       "1                 巩俐 Li Gong                 葛优 You Ge   \n",
       "2         加里·奥德曼 Gary Oldman        丹尼·爱罗 Danny Aiello   \n",
       "3                Gary Sinise        Mykelti Williamson   \n",
       "4  乔治·坎塔里尼 Giorgio Cantarini  朱斯蒂诺·杜拉诺 Giustino Durano   \n",
       "\n",
       "                                  4                           5   \\\n",
       "0                克兰西·布朗 Clancy Brown          吉尔·贝罗斯 Gil Bellows   \n",
       "1                         英达 Da Ying             蒋雯丽 Wenli Jiang   \n",
       "2                 彼得·阿佩尔 Peter Appel  迈克尔·巴达鲁科 Michael Badalucco   \n",
       "3                        Sally Field    Michael Conner Humphreys   \n",
       "4  塞尔吉奥·比尼·布斯特里克 Sergio Bini Bustric     玛丽莎·佩雷德斯 Marisa Paredes   \n",
       "\n",
       "                        6                        7   \\\n",
       "0      马克·罗斯顿 Mark Rolston   詹姆斯·惠特摩 James Whitmore   \n",
       "1             吴大维 David Wu                 吕齐 Qi Lü   \n",
       "2      艾伦·格里尼 Ellen Greene  伊丽莎白·瑞根 Elizabeth Regen   \n",
       "3        Haley Joel Osment                      NaN   \n",
       "4  豪斯特·巴奇霍兹 Horst Buchholz    利迪娅·阿方西 Lidia Alfonsi   \n",
       "\n",
       "                            8                           9  ...    34   35  \\\n",
       "0        杰弗里·德曼 Jeffrey DeMunn  拉里·布兰登伯格 Larry Brandenburg ...   NaN  NaN   \n",
       "1                   雷汉 Han Lei                  尹治 Zhi Yin ...   NaN  NaN   \n",
       "2  卡尔·马图斯维奇 Carl J. Matusovich         弗兰克·赛格 Frank Senger ...   NaN  NaN   \n",
       "3                          NaN                         NaN ...   NaN  NaN   \n",
       "4  朱利亚娜·洛约迪切 Giuliana Lojodice    亚美利哥·丰塔尼 Amerigo Fontani ...   NaN  NaN   \n",
       "\n",
       "    36   37   38   39   40   41   42   43  \n",
       "0  NaN  NaN  NaN  NaN  NaN  NaN  NaN  NaN  \n",
       "1  NaN  NaN  NaN  NaN  NaN  NaN  NaN  NaN  \n",
       "2  NaN  NaN  NaN  NaN  NaN  NaN  NaN  NaN  \n",
       "3  NaN  NaN  NaN  NaN  NaN  NaN  NaN  NaN  \n",
       "4  NaN  NaN  NaN  NaN  NaN  NaN  NaN  NaN  \n",
       "\n",
       "[5 rows x 44 columns]"
      ]
     },
     "execution_count": 21,
     "metadata": {},
     "output_type": "execute_result"
    }
   ],
   "source": [
    "# cast 列的处理\n",
    "#df.cast.head()\n",
    "cast_split = df['cast'].str.replace('\\', \\'','#').str.split('#').apply(pd.Series)  \n",
    "#[[0,1,2,3]].columns=['performer_1','performer_2','performer_3','performer_4']\n",
    "cast_split.head()"
   ]
  },
  {
   "cell_type": "code",
   "execution_count": 22,
   "metadata": {},
   "outputs": [
    {
     "data": {
      "text/html": [
       "<div>\n",
       "<style>\n",
       "    .dataframe thead tr:only-child th {\n",
       "        text-align: right;\n",
       "    }\n",
       "\n",
       "    .dataframe thead th {\n",
       "        text-align: left;\n",
       "    }\n",
       "\n",
       "    .dataframe tbody tr th {\n",
       "        vertical-align: top;\n",
       "    }\n",
       "</style>\n",
       "<table border=\"1\" class=\"dataframe\">\n",
       "  <thead>\n",
       "    <tr style=\"text-align: right;\">\n",
       "      <th></th>\n",
       "      <th>level_0</th>\n",
       "      <th>level_1</th>\n",
       "      <th>0</th>\n",
       "    </tr>\n",
       "  </thead>\n",
       "  <tbody>\n",
       "    <tr>\n",
       "      <th>0</th>\n",
       "      <td>0</td>\n",
       "      <td>0</td>\n",
       "      <td>蒂姆·罗宾斯 Tim Robbins</td>\n",
       "    </tr>\n",
       "    <tr>\n",
       "      <th>1</th>\n",
       "      <td>0</td>\n",
       "      <td>1</td>\n",
       "      <td>张国荣 Leslie Cheung</td>\n",
       "    </tr>\n",
       "    <tr>\n",
       "      <th>2</th>\n",
       "      <td>0</td>\n",
       "      <td>2</td>\n",
       "      <td>让·雷诺 Jean Reno</td>\n",
       "    </tr>\n",
       "    <tr>\n",
       "      <th>3</th>\n",
       "      <td>0</td>\n",
       "      <td>3</td>\n",
       "      <td>Tom Hanks</td>\n",
       "    </tr>\n",
       "    <tr>\n",
       "      <th>4</th>\n",
       "      <td>0</td>\n",
       "      <td>4</td>\n",
       "      <td>罗伯托·贝尼尼 Roberto Benigni</td>\n",
       "    </tr>\n",
       "  </tbody>\n",
       "</table>\n",
       "</div>"
      ],
      "text/plain": [
       "   level_0  level_1                        0\n",
       "0        0        0       蒂姆·罗宾斯 Tim Robbins\n",
       "1        0        1        张国荣 Leslie Cheung\n",
       "2        0        2           让·雷诺 Jean Reno\n",
       "3        0        3                Tom Hanks\n",
       "4        0        4  罗伯托·贝尼尼 Roberto Benigni"
      ]
     },
     "execution_count": 22,
     "metadata": {},
     "output_type": "execute_result"
    }
   ],
   "source": [
    "# 选取前六位演员作为分析对象。\n",
    "c = cast_split[[0,1,2,3,4,5]] #.columns=['performer_1','performer_2','performer_3','performer_4','performer_5','performer_6']\n",
    "c.columns=['performer_1','performer_2','performer_3','performer_4','performer_5','performer_6']\n",
    "c = cast_split.unstack().dropna().reset_index()\n",
    "c.head()\n",
    "# cast_split.unstack().dropna().reset_index()"
   ]
  },
  {
   "cell_type": "code",
   "execution_count": 23,
   "metadata": {},
   "outputs": [
    {
     "data": {
      "text/html": [
       "<div>\n",
       "<style>\n",
       "    .dataframe thead tr:only-child th {\n",
       "        text-align: right;\n",
       "    }\n",
       "\n",
       "    .dataframe thead th {\n",
       "        text-align: left;\n",
       "    }\n",
       "\n",
       "    .dataframe tbody tr th {\n",
       "        vertical-align: top;\n",
       "    }\n",
       "</style>\n",
       "<table border=\"1\" class=\"dataframe\">\n",
       "  <thead>\n",
       "    <tr style=\"text-align: right;\">\n",
       "      <th></th>\n",
       "      <th>level_0</th>\n",
       "      <th>level_1</th>\n",
       "      <th>performers</th>\n",
       "    </tr>\n",
       "  </thead>\n",
       "  <tbody>\n",
       "    <tr>\n",
       "      <th>0</th>\n",
       "      <td>0</td>\n",
       "      <td>0</td>\n",
       "      <td>蒂姆·罗宾斯 Tim Robbins</td>\n",
       "    </tr>\n",
       "    <tr>\n",
       "      <th>1</th>\n",
       "      <td>0</td>\n",
       "      <td>1</td>\n",
       "      <td>张国荣 Leslie Cheung</td>\n",
       "    </tr>\n",
       "    <tr>\n",
       "      <th>2</th>\n",
       "      <td>0</td>\n",
       "      <td>2</td>\n",
       "      <td>让·雷诺 Jean Reno</td>\n",
       "    </tr>\n",
       "    <tr>\n",
       "      <th>3</th>\n",
       "      <td>0</td>\n",
       "      <td>3</td>\n",
       "      <td>Tom Hanks</td>\n",
       "    </tr>\n",
       "    <tr>\n",
       "      <th>4</th>\n",
       "      <td>0</td>\n",
       "      <td>4</td>\n",
       "      <td>罗伯托·贝尼尼 Roberto Benigni</td>\n",
       "    </tr>\n",
       "  </tbody>\n",
       "</table>\n",
       "</div>"
      ],
      "text/plain": [
       "   level_0  level_1               performers\n",
       "0        0        0       蒂姆·罗宾斯 Tim Robbins\n",
       "1        0        1        张国荣 Leslie Cheung\n",
       "2        0        2           让·雷诺 Jean Reno\n",
       "3        0        3                Tom Hanks\n",
       "4        0        4  罗伯托·贝尼尼 Roberto Benigni"
      ]
     },
     "execution_count": 23,
     "metadata": {},
     "output_type": "execute_result"
    }
   ],
   "source": [
    "c.columns=['level_0','level_1','performers']\n",
    "c['performers'] = c['performers'].str.strip()\n",
    "\n",
    "#c[c['performers']=='Tom Hanks']['performers']='aaa'\n",
    "#c[c['performers'].str.contains('Tom Hanks')]['performers']\n",
    "c.head()"
   ]
  },
  {
   "cell_type": "code",
   "execution_count": 24,
   "metadata": {},
   "outputs": [
    {
     "data": {
      "text/html": [
       "<div>\n",
       "<style>\n",
       "    .dataframe thead tr:only-child th {\n",
       "        text-align: right;\n",
       "    }\n",
       "\n",
       "    .dataframe thead th {\n",
       "        text-align: left;\n",
       "    }\n",
       "\n",
       "    .dataframe tbody tr th {\n",
       "        vertical-align: top;\n",
       "    }\n",
       "</style>\n",
       "<table border=\"1\" class=\"dataframe\">\n",
       "  <thead>\n",
       "    <tr style=\"text-align: right;\">\n",
       "      <th></th>\n",
       "      <th>level_0</th>\n",
       "      <th>level_1</th>\n",
       "      <th>performers</th>\n",
       "    </tr>\n",
       "  </thead>\n",
       "  <tbody>\n",
       "    <tr>\n",
       "      <th>0</th>\n",
       "      <td>0</td>\n",
       "      <td>0</td>\n",
       "      <td>蒂姆·罗宾斯 Tim Robbins</td>\n",
       "    </tr>\n",
       "    <tr>\n",
       "      <th>1</th>\n",
       "      <td>0</td>\n",
       "      <td>1</td>\n",
       "      <td>张国荣 Leslie Cheung</td>\n",
       "    </tr>\n",
       "    <tr>\n",
       "      <th>2</th>\n",
       "      <td>0</td>\n",
       "      <td>2</td>\n",
       "      <td>让·雷诺 Jean Reno</td>\n",
       "    </tr>\n",
       "    <tr>\n",
       "      <th>3</th>\n",
       "      <td>0</td>\n",
       "      <td>3</td>\n",
       "      <td>汤姆·汉克斯 Tom Hanks</td>\n",
       "    </tr>\n",
       "    <tr>\n",
       "      <th>4</th>\n",
       "      <td>0</td>\n",
       "      <td>4</td>\n",
       "      <td>罗伯托·贝尼尼 Roberto Benigni</td>\n",
       "    </tr>\n",
       "  </tbody>\n",
       "</table>\n",
       "</div>"
      ],
      "text/plain": [
       "   level_0  level_1               performers\n",
       "0        0        0       蒂姆·罗宾斯 Tim Robbins\n",
       "1        0        1        张国荣 Leslie Cheung\n",
       "2        0        2           让·雷诺 Jean Reno\n",
       "3        0        3         汤姆·汉克斯 Tom Hanks\n",
       "4        0        4  罗伯托·贝尼尼 Roberto Benigni"
      ]
     },
     "execution_count": 24,
     "metadata": {},
     "output_type": "execute_result"
    }
   ],
   "source": [
    "# 演员表中有些人名中英文都标注了，有些只写了中文或英文名，\n",
    "# 例如“Tom Hanks”和“汤姆·汉克斯 Tom Hanks”是指一个人。\n",
    "# 下面的步骤是找出单独的中文或英文名，补全为中英两种语言的名字。\n",
    "#c\n",
    "for i in c['performers']:\n",
    "    for j in c[c['performers'].str.contains(i)]['performers']:\n",
    "#         print(j)\n",
    "        if (len(j) > len(i)):\n",
    "            row =  c[c['performers']==i]\n",
    "            level_0 = row['level_0']\n",
    "            level_1 = row['level_1']\n",
    "            c[c['performers']==i] =[level_0,level_1,j] \n",
    "        else:\n",
    "            continue\n",
    "c.head()"
   ]
  },
  {
   "cell_type": "code",
   "execution_count": 25,
   "metadata": {},
   "outputs": [
    {
     "data": {
      "text/html": [
       "<div>\n",
       "<style>\n",
       "    .dataframe thead tr:only-child th {\n",
       "        text-align: right;\n",
       "    }\n",
       "\n",
       "    .dataframe thead th {\n",
       "        text-align: left;\n",
       "    }\n",
       "\n",
       "    .dataframe tbody tr th {\n",
       "        vertical-align: top;\n",
       "    }\n",
       "</style>\n",
       "<table border=\"1\" class=\"dataframe\">\n",
       "  <thead>\n",
       "    <tr style=\"text-align: right;\">\n",
       "      <th></th>\n",
       "      <th>level_0</th>\n",
       "      <th>level_1</th>\n",
       "    </tr>\n",
       "    <tr>\n",
       "      <th>performers</th>\n",
       "      <th></th>\n",
       "      <th></th>\n",
       "    </tr>\n",
       "  </thead>\n",
       "  <tbody>\n",
       "    <tr>\n",
       "      <th>1976 (乐团)</th>\n",
       "      <td>1</td>\n",
       "      <td>1</td>\n",
       "    </tr>\n",
       "    <tr>\n",
       "      <th>Agnese Nano</th>\n",
       "      <td>1</td>\n",
       "      <td>1</td>\n",
       "    </tr>\n",
       "    <tr>\n",
       "      <th>Aldo Giuffrè</th>\n",
       "      <td>1</td>\n",
       "      <td>1</td>\n",
       "    </tr>\n",
       "    <tr>\n",
       "      <th>Alexandre Rodrigues</th>\n",
       "      <td>1</td>\n",
       "      <td>1</td>\n",
       "    </tr>\n",
       "    <tr>\n",
       "      <th>Alfonso Freeman</th>\n",
       "      <td>1</td>\n",
       "      <td>1</td>\n",
       "    </tr>\n",
       "  </tbody>\n",
       "</table>\n",
       "</div>"
      ],
      "text/plain": [
       "                     level_0  level_1\n",
       "performers                           \n",
       "1976 (乐团)                  1        1\n",
       "Agnese Nano                1        1\n",
       "Aldo Giuffrè               1        1\n",
       "Alexandre Rodrigues        1        1\n",
       "Alfonso Freeman            1        1"
      ]
     },
     "execution_count": 25,
     "metadata": {},
     "output_type": "execute_result"
    }
   ],
   "source": [
    "# 根据演员名称进行分组并计数\n",
    "c = c.groupby('performers').count()\n",
    "cast_c = c\n",
    "cast_c.head()"
   ]
  },
  {
   "cell_type": "code",
   "execution_count": 26,
   "metadata": {},
   "outputs": [
    {
     "data": {
      "text/html": [
       "<div>\n",
       "<style>\n",
       "    .dataframe thead tr:only-child th {\n",
       "        text-align: right;\n",
       "    }\n",
       "\n",
       "    .dataframe thead th {\n",
       "        text-align: left;\n",
       "    }\n",
       "\n",
       "    .dataframe tbody tr th {\n",
       "        vertical-align: top;\n",
       "    }\n",
       "</style>\n",
       "<table border=\"1\" class=\"dataframe\">\n",
       "  <thead>\n",
       "    <tr style=\"text-align: right;\">\n",
       "      <th></th>\n",
       "      <th>counts</th>\n",
       "    </tr>\n",
       "    <tr>\n",
       "      <th>performers</th>\n",
       "      <th></th>\n",
       "    </tr>\n",
       "  </thead>\n",
       "  <tbody>\n",
       "    <tr>\n",
       "      <th>1976 (乐团)</th>\n",
       "      <td>1</td>\n",
       "    </tr>\n",
       "    <tr>\n",
       "      <th>Agnese Nano</th>\n",
       "      <td>1</td>\n",
       "    </tr>\n",
       "    <tr>\n",
       "      <th>Aldo Giuffrè</th>\n",
       "      <td>1</td>\n",
       "    </tr>\n",
       "    <tr>\n",
       "      <th>Alexandre Rodrigues</th>\n",
       "      <td>1</td>\n",
       "    </tr>\n",
       "    <tr>\n",
       "      <th>Alfonso Freeman</th>\n",
       "      <td>1</td>\n",
       "    </tr>\n",
       "  </tbody>\n",
       "</table>\n",
       "</div>"
      ],
      "text/plain": [
       "                     counts\n",
       "performers                 \n",
       "1976 (乐团)                 1\n",
       "Agnese Nano               1\n",
       "Aldo Giuffrè              1\n",
       "Alexandre Rodrigues       1\n",
       "Alfonso Freeman           1"
      ]
     },
     "execution_count": 26,
     "metadata": {},
     "output_type": "execute_result"
    }
   ],
   "source": [
    "# 此时 `level_0` 和 `level_1` 的数据是完全一样的，都是表示演员出现的次数,删除 `Level_0` 列。\n",
    "c = c.drop(['level_0'], axis = 1)\n",
    "c.columns = ['counts']\n",
    "cast_c = c\n",
    "cast_c.head()"
   ]
  },
  {
   "cell_type": "markdown",
   "metadata": {},
   "source": [
    "### 2.4.6、电影时长（movie_duration）列内容清洗"
   ]
  },
  {
   "cell_type": "code",
   "execution_count": 27,
   "metadata": {},
   "outputs": [
    {
     "data": {
      "text/html": [
       "<div>\n",
       "<style>\n",
       "    .dataframe thead tr:only-child th {\n",
       "        text-align: right;\n",
       "    }\n",
       "\n",
       "    .dataframe thead th {\n",
       "        text-align: left;\n",
       "    }\n",
       "\n",
       "    .dataframe tbody tr th {\n",
       "        vertical-align: top;\n",
       "    }\n",
       "</style>\n",
       "<table border=\"1\" class=\"dataframe\">\n",
       "  <thead>\n",
       "    <tr style=\"text-align: right;\">\n",
       "      <th></th>\n",
       "      <th>0</th>\n",
       "      <th>1</th>\n",
       "      <th>2</th>\n",
       "      <th>3</th>\n",
       "      <th>4</th>\n",
       "      <th>5</th>\n",
       "    </tr>\n",
       "  </thead>\n",
       "  <tbody>\n",
       "    <tr>\n",
       "      <th>0</th>\n",
       "      <td>142 分钟</td>\n",
       "      <td>NaN</td>\n",
       "      <td>NaN</td>\n",
       "      <td>NaN</td>\n",
       "      <td>NaN</td>\n",
       "      <td>NaN</td>\n",
       "    </tr>\n",
       "    <tr>\n",
       "      <th>1</th>\n",
       "      <td>171 分钟</td>\n",
       "      <td>NaN</td>\n",
       "      <td>NaN</td>\n",
       "      <td>NaN</td>\n",
       "      <td>NaN</td>\n",
       "      <td>NaN</td>\n",
       "    </tr>\n",
       "    <tr>\n",
       "      <th>2</th>\n",
       "      <td>110分钟(剧场版)</td>\n",
       "      <td>133分钟(国际版)</td>\n",
       "      <td>NaN</td>\n",
       "      <td>NaN</td>\n",
       "      <td>NaN</td>\n",
       "      <td>NaN</td>\n",
       "    </tr>\n",
       "    <tr>\n",
       "      <th>3</th>\n",
       "      <td>142 分钟</td>\n",
       "      <td>NaN</td>\n",
       "      <td>NaN</td>\n",
       "      <td>NaN</td>\n",
       "      <td>NaN</td>\n",
       "      <td>NaN</td>\n",
       "    </tr>\n",
       "    <tr>\n",
       "      <th>4</th>\n",
       "      <td>116分钟</td>\n",
       "      <td>NaN</td>\n",
       "      <td>NaN</td>\n",
       "      <td>NaN</td>\n",
       "      <td>NaN</td>\n",
       "      <td>NaN</td>\n",
       "    </tr>\n",
       "  </tbody>\n",
       "</table>\n",
       "</div>"
      ],
      "text/plain": [
       "            0           1    2    3    4    5\n",
       "0      142 分钟         NaN  NaN  NaN  NaN  NaN\n",
       "1      171 分钟         NaN  NaN  NaN  NaN  NaN\n",
       "2  110分钟(剧场版)  133分钟(国际版)  NaN  NaN  NaN  NaN\n",
       "3      142 分钟         NaN  NaN  NaN  NaN  NaN\n",
       "4       116分钟         NaN  NaN  NaN  NaN  NaN"
      ]
     },
     "execution_count": 27,
     "metadata": {},
     "output_type": "execute_result"
    }
   ],
   "source": [
    "# 处理 movie_duration 列：\n",
    "movie_duration_split = df['movie_duration'].str.strip().str.replace('\\', \\'','#').str.split('#').apply(pd.Series)\n",
    "movie_duration_split.head()"
   ]
  },
  {
   "cell_type": "code",
   "execution_count": 28,
   "metadata": {},
   "outputs": [
    {
     "data": {
      "text/plain": [
       "0    142\n",
       "1    171\n",
       "2    110\n",
       "3    142\n",
       "4    116\n",
       "Name: 0, dtype: object"
      ]
     },
     "execution_count": 28,
     "metadata": {},
     "output_type": "execute_result"
    }
   ],
   "source": [
    "#有些电影时长存在多种版本，一般情况下第一个时长为国内最普通、观看数量较多的版本，因此仅取第一个时长。\n",
    "duration = movie_duration_split[0].str.split('分').apply(pd.Series)[0].str.strip()\n",
    "duration.head()"
   ]
  },
  {
   "cell_type": "code",
   "execution_count": 29,
   "metadata": {},
   "outputs": [
    {
     "data": {
      "text/plain": [
       "244    Japan: 75\n",
       "Name: 0, dtype: object"
      ]
     },
     "execution_count": 29,
     "metadata": {},
     "output_type": "execute_result"
    }
   ],
   "source": [
    "#duration.str.len().value_counts()\n",
    "duration[duration.str.len() > 3]"
   ]
  },
  {
   "cell_type": "code",
   "execution_count": 30,
   "metadata": {
    "collapsed": true
   },
   "outputs": [],
   "source": [
    "# 观察数据发现有特殊的：Japan: 75  ,为第244条。类似于这样的数据，处理掉\n",
    "duration[244] = duration[244].split(' ')[1]"
   ]
  },
  {
   "cell_type": "code",
   "execution_count": 31,
   "metadata": {},
   "outputs": [
    {
     "data": {
      "text/plain": [
       "dtype('int32')"
      ]
     },
     "execution_count": 31,
     "metadata": {},
     "output_type": "execute_result"
    }
   ],
   "source": [
    "#现在更改数据类型：\n",
    "duration = duration.astype(int)\n",
    "duration.dtypes"
   ]
  },
  {
   "cell_type": "code",
   "execution_count": 32,
   "metadata": {},
   "outputs": [
    {
     "data": {
      "text/plain": [
       "0    142\n",
       "1    171\n",
       "2    110\n",
       "3    142\n",
       "4    116\n",
       "Name: movie_duration, dtype: int32"
      ]
     },
     "execution_count": 32,
     "metadata": {},
     "output_type": "execute_result"
    }
   ],
   "source": [
    "df['movie_duration'] = duration\n",
    "df['movie_duration'].head()"
   ]
  },
  {
   "cell_type": "markdown",
   "metadata": {},
   "source": [
    "### 2.4.7、电影标记（tags）列内容清洗"
   ]
  },
  {
   "cell_type": "code",
   "execution_count": 33,
   "metadata": {},
   "outputs": [
    {
     "data": {
      "text/plain": [
       "\"[{'count': 197742, 'name': '经典'}, {'count': 168278, 'name': '励志'}, {'count': 150816, 'name': '信念'}, {'count': 136433, 'name': '自由'}, {'count': 100023, 'name': '美国'}, {'count': 97065, 'name': '人性'}, {'count': 75735, 'name': '人生'}, {'count': 62038, 'name': '剧情'}]\""
      ]
     },
     "execution_count": 33,
     "metadata": {},
     "output_type": "execute_result"
    }
   ],
   "source": [
    " #对于 `tags` 列，先看一下它的基本情况：\n",
    "df[\"tags\"][0]"
   ]
  },
  {
   "cell_type": "code",
   "execution_count": 34,
   "metadata": {},
   "outputs": [
    {
     "data": {
      "text/html": [
       "<div>\n",
       "<style>\n",
       "    .dataframe thead tr:only-child th {\n",
       "        text-align: right;\n",
       "    }\n",
       "\n",
       "    .dataframe thead th {\n",
       "        text-align: left;\n",
       "    }\n",
       "\n",
       "    .dataframe tbody tr th {\n",
       "        vertical-align: top;\n",
       "    }\n",
       "</style>\n",
       "<table border=\"1\" class=\"dataframe\">\n",
       "  <thead>\n",
       "    <tr style=\"text-align: right;\">\n",
       "      <th></th>\n",
       "      <th>1</th>\n",
       "      <th>2</th>\n",
       "      <th>3</th>\n",
       "      <th>4</th>\n",
       "      <th>5</th>\n",
       "      <th>6</th>\n",
       "      <th>7</th>\n",
       "      <th>8</th>\n",
       "      <th>9</th>\n",
       "      <th>10</th>\n",
       "      <th>11</th>\n",
       "      <th>12</th>\n",
       "      <th>13</th>\n",
       "      <th>14</th>\n",
       "      <th>15</th>\n",
       "      <th>16</th>\n",
       "    </tr>\n",
       "  </thead>\n",
       "  <tbody>\n",
       "    <tr>\n",
       "      <th>0</th>\n",
       "      <td>197742</td>\n",
       "      <td>经典</td>\n",
       "      <td>168278</td>\n",
       "      <td>励志</td>\n",
       "      <td>150816</td>\n",
       "      <td>信念</td>\n",
       "      <td>136433</td>\n",
       "      <td>自由</td>\n",
       "      <td>100023</td>\n",
       "      <td>美国</td>\n",
       "      <td>97065</td>\n",
       "      <td>人性</td>\n",
       "      <td>75735</td>\n",
       "      <td>人生</td>\n",
       "      <td>62038</td>\n",
       "      <td>剧情</td>\n",
       "    </tr>\n",
       "    <tr>\n",
       "      <th>1</th>\n",
       "      <td>124150</td>\n",
       "      <td>经典</td>\n",
       "      <td>63691</td>\n",
       "      <td>中国电影</td>\n",
       "      <td>60284</td>\n",
       "      <td>爱情</td>\n",
       "      <td>58677</td>\n",
       "      <td>文艺</td>\n",
       "      <td>56385</td>\n",
       "      <td>人性</td>\n",
       "      <td>49648</td>\n",
       "      <td>同志</td>\n",
       "      <td>45309</td>\n",
       "      <td>人生</td>\n",
       "      <td>34298</td>\n",
       "      <td>剧情</td>\n",
       "    </tr>\n",
       "    <tr>\n",
       "      <th>2</th>\n",
       "      <td>150097</td>\n",
       "      <td>经典</td>\n",
       "      <td>85994</td>\n",
       "      <td>爱情</td>\n",
       "      <td>85000</td>\n",
       "      <td>温情</td>\n",
       "      <td>59611</td>\n",
       "      <td>人性</td>\n",
       "      <td>53425</td>\n",
       "      <td>剧情</td>\n",
       "      <td>41229</td>\n",
       "      <td>动作</td>\n",
       "      <td>37171</td>\n",
       "      <td>犯罪</td>\n",
       "      <td>23234</td>\n",
       "      <td>1994</td>\n",
       "    </tr>\n",
       "    <tr>\n",
       "      <th>3</th>\n",
       "      <td>179046</td>\n",
       "      <td>励志</td>\n",
       "      <td>134124</td>\n",
       "      <td>经典</td>\n",
       "      <td>101061</td>\n",
       "      <td>美国</td>\n",
       "      <td>92361</td>\n",
       "      <td>人生</td>\n",
       "      <td>69678</td>\n",
       "      <td>信念</td>\n",
       "      <td>68910</td>\n",
       "      <td>成长</td>\n",
       "      <td>38545</td>\n",
       "      <td>剧情</td>\n",
       "      <td>29198</td>\n",
       "      <td>人性</td>\n",
       "    </tr>\n",
       "    <tr>\n",
       "      <th>4</th>\n",
       "      <td>70710</td>\n",
       "      <td>意大利</td>\n",
       "      <td>67057</td>\n",
       "      <td>二战</td>\n",
       "      <td>66974</td>\n",
       "      <td>经典</td>\n",
       "      <td>65271</td>\n",
       "      <td>亲情</td>\n",
       "      <td>41626</td>\n",
       "      <td>战争</td>\n",
       "      <td>27446</td>\n",
       "      <td>温情</td>\n",
       "      <td>23931</td>\n",
       "      <td>爱情</td>\n",
       "      <td>23904</td>\n",
       "      <td>人性</td>\n",
       "    </tr>\n",
       "  </tbody>\n",
       "</table>\n",
       "</div>"
      ],
      "text/plain": [
       "       1    2       3     4       5   6       7   8       9   10     11  12  \\\n",
       "0  197742   经典  168278    励志  150816  信念  136433  自由  100023  美国  97065  人性   \n",
       "1  124150   经典   63691  中国电影   60284  爱情   58677  文艺   56385  人性  49648  同志   \n",
       "2  150097   经典   85994    爱情   85000  温情   59611  人性   53425  剧情  41229  动作   \n",
       "3  179046   励志  134124    经典  101061  美国   92361  人生   69678  信念  68910  成长   \n",
       "4   70710  意大利   67057    二战   66974  经典   65271  亲情   41626  战争  27446  温情   \n",
       "\n",
       "      13  14     15    16  \n",
       "0  75735  人生  62038    剧情  \n",
       "1  45309  人生  34298    剧情  \n",
       "2  37171  犯罪  23234  1994  \n",
       "3  38545  剧情  29198    人性  \n",
       "4  23931  爱情  23904    人性  "
      ]
     },
     "execution_count": 34,
     "metadata": {},
     "output_type": "execute_result"
    }
   ],
   "source": [
    "#使用空格替换count':  、, 'name': '、'}, {'\n",
    "tags_split = df['tags'].str.replace('count\\': ',' ').str.replace(', \\'name\\': \\'',' ').str.replace('\\'}, {\\'','').str.split(' ').apply(pd.Series)\n",
    "# 删除第一列\n",
    "del tags_split[0]\n",
    "# 处理掉最后一列的特殊字符：'}]\n",
    "tags_split[16] = tags_split[16].str.replace('\\'}]','')\n",
    "tags_split.head()"
   ]
  },
  {
   "cell_type": "code",
   "execution_count": 35,
   "metadata": {},
   "outputs": [
    {
     "data": {
      "text/html": [
       "<div>\n",
       "<style>\n",
       "    .dataframe thead tr:only-child th {\n",
       "        text-align: right;\n",
       "    }\n",
       "\n",
       "    .dataframe thead th {\n",
       "        text-align: left;\n",
       "    }\n",
       "\n",
       "    .dataframe tbody tr th {\n",
       "        vertical-align: top;\n",
       "    }\n",
       "</style>\n",
       "<table border=\"1\" class=\"dataframe\">\n",
       "  <thead>\n",
       "    <tr style=\"text-align: right;\">\n",
       "      <th></th>\n",
       "      <th>2</th>\n",
       "      <th>1</th>\n",
       "      <th>4</th>\n",
       "      <th>3</th>\n",
       "      <th>6</th>\n",
       "      <th>5</th>\n",
       "      <th>8</th>\n",
       "      <th>7</th>\n",
       "      <th>10</th>\n",
       "      <th>9</th>\n",
       "      <th>12</th>\n",
       "      <th>11</th>\n",
       "      <th>14</th>\n",
       "      <th>13</th>\n",
       "      <th>16</th>\n",
       "      <th>15</th>\n",
       "    </tr>\n",
       "  </thead>\n",
       "  <tbody>\n",
       "    <tr>\n",
       "      <th>0</th>\n",
       "      <td>经典</td>\n",
       "      <td>197742</td>\n",
       "      <td>励志</td>\n",
       "      <td>168278</td>\n",
       "      <td>信念</td>\n",
       "      <td>150816</td>\n",
       "      <td>自由</td>\n",
       "      <td>136433</td>\n",
       "      <td>美国</td>\n",
       "      <td>100023</td>\n",
       "      <td>人性</td>\n",
       "      <td>97065</td>\n",
       "      <td>人生</td>\n",
       "      <td>75735</td>\n",
       "      <td>剧情</td>\n",
       "      <td>62038</td>\n",
       "    </tr>\n",
       "    <tr>\n",
       "      <th>1</th>\n",
       "      <td>经典</td>\n",
       "      <td>124150</td>\n",
       "      <td>中国电影</td>\n",
       "      <td>63691</td>\n",
       "      <td>爱情</td>\n",
       "      <td>60284</td>\n",
       "      <td>文艺</td>\n",
       "      <td>58677</td>\n",
       "      <td>人性</td>\n",
       "      <td>56385</td>\n",
       "      <td>同志</td>\n",
       "      <td>49648</td>\n",
       "      <td>人生</td>\n",
       "      <td>45309</td>\n",
       "      <td>剧情</td>\n",
       "      <td>34298</td>\n",
       "    </tr>\n",
       "    <tr>\n",
       "      <th>2</th>\n",
       "      <td>经典</td>\n",
       "      <td>150097</td>\n",
       "      <td>爱情</td>\n",
       "      <td>85994</td>\n",
       "      <td>温情</td>\n",
       "      <td>85000</td>\n",
       "      <td>人性</td>\n",
       "      <td>59611</td>\n",
       "      <td>剧情</td>\n",
       "      <td>53425</td>\n",
       "      <td>动作</td>\n",
       "      <td>41229</td>\n",
       "      <td>犯罪</td>\n",
       "      <td>37171</td>\n",
       "      <td>1994</td>\n",
       "      <td>23234</td>\n",
       "    </tr>\n",
       "    <tr>\n",
       "      <th>3</th>\n",
       "      <td>励志</td>\n",
       "      <td>179046</td>\n",
       "      <td>经典</td>\n",
       "      <td>134124</td>\n",
       "      <td>美国</td>\n",
       "      <td>101061</td>\n",
       "      <td>人生</td>\n",
       "      <td>92361</td>\n",
       "      <td>信念</td>\n",
       "      <td>69678</td>\n",
       "      <td>成长</td>\n",
       "      <td>68910</td>\n",
       "      <td>剧情</td>\n",
       "      <td>38545</td>\n",
       "      <td>人性</td>\n",
       "      <td>29198</td>\n",
       "    </tr>\n",
       "    <tr>\n",
       "      <th>4</th>\n",
       "      <td>意大利</td>\n",
       "      <td>70710</td>\n",
       "      <td>二战</td>\n",
       "      <td>67057</td>\n",
       "      <td>经典</td>\n",
       "      <td>66974</td>\n",
       "      <td>亲情</td>\n",
       "      <td>65271</td>\n",
       "      <td>战争</td>\n",
       "      <td>41626</td>\n",
       "      <td>温情</td>\n",
       "      <td>27446</td>\n",
       "      <td>爱情</td>\n",
       "      <td>23931</td>\n",
       "      <td>人性</td>\n",
       "      <td>23904</td>\n",
       "    </tr>\n",
       "  </tbody>\n",
       "</table>\n",
       "</div>"
      ],
      "text/plain": [
       "    2       1     4       3   6       5   8       7   10      9   12     11  \\\n",
       "0   经典  197742    励志  168278  信念  150816  自由  136433  美国  100023  人性  97065   \n",
       "1   经典  124150  中国电影   63691  爱情   60284  文艺   58677  人性   56385  同志  49648   \n",
       "2   经典  150097    爱情   85994  温情   85000  人性   59611  剧情   53425  动作  41229   \n",
       "3   励志  179046    经典  134124  美国  101061  人生   92361  信念   69678  成长  68910   \n",
       "4  意大利   70710    二战   67057  经典   66974  亲情   65271  战争   41626  温情  27446   \n",
       "\n",
       "   14     13    16     15  \n",
       "0  人生  75735    剧情  62038  \n",
       "1  人生  45309    剧情  34298  \n",
       "2  犯罪  37171  1994  23234  \n",
       "3  剧情  38545    人性  29198  \n",
       "4  爱情  23931    人性  23904  "
      ]
     },
     "execution_count": 35,
     "metadata": {},
     "output_type": "execute_result"
    }
   ],
   "source": [
    "# 一般阅读习惯是先看标签类别，再看标签数量，调整一下位置比较便于阅读：\n",
    "tags_split = tags_split.reindex(columns = [2,1,4,3,6,5,8,7,10,9,12,11,14,13,16,15])\n",
    "tags_split.head()"
   ]
  },
  {
   "cell_type": "code",
   "execution_count": 36,
   "metadata": {},
   "outputs": [
    {
     "data": {
      "text/html": [
       "<div>\n",
       "<style>\n",
       "    .dataframe thead tr:only-child th {\n",
       "        text-align: right;\n",
       "    }\n",
       "\n",
       "    .dataframe thead th {\n",
       "        text-align: left;\n",
       "    }\n",
       "\n",
       "    .dataframe tbody tr th {\n",
       "        vertical-align: top;\n",
       "    }\n",
       "</style>\n",
       "<table border=\"1\" class=\"dataframe\">\n",
       "  <thead>\n",
       "    <tr style=\"text-align: right;\">\n",
       "      <th></th>\n",
       "      <th>tags_1</th>\n",
       "      <th>tags_counts_1</th>\n",
       "      <th>tags_2</th>\n",
       "      <th>tags_counts_2</th>\n",
       "      <th>tags_3</th>\n",
       "      <th>tags_counts_3</th>\n",
       "      <th>tags_4</th>\n",
       "      <th>tags_counts_4</th>\n",
       "      <th>tags_5</th>\n",
       "      <th>tags_counts_5</th>\n",
       "      <th>tags_6</th>\n",
       "      <th>tags_counts_6</th>\n",
       "      <th>tags_7</th>\n",
       "      <th>tags_counts_7</th>\n",
       "      <th>tags_8</th>\n",
       "      <th>tags_counts_8</th>\n",
       "    </tr>\n",
       "  </thead>\n",
       "  <tbody>\n",
       "    <tr>\n",
       "      <th>0</th>\n",
       "      <td>经典</td>\n",
       "      <td>197742</td>\n",
       "      <td>励志</td>\n",
       "      <td>168278</td>\n",
       "      <td>信念</td>\n",
       "      <td>150816</td>\n",
       "      <td>自由</td>\n",
       "      <td>136433</td>\n",
       "      <td>美国</td>\n",
       "      <td>100023</td>\n",
       "      <td>人性</td>\n",
       "      <td>97065</td>\n",
       "      <td>人生</td>\n",
       "      <td>75735</td>\n",
       "      <td>剧情</td>\n",
       "      <td>62038</td>\n",
       "    </tr>\n",
       "    <tr>\n",
       "      <th>1</th>\n",
       "      <td>经典</td>\n",
       "      <td>124150</td>\n",
       "      <td>中国电影</td>\n",
       "      <td>63691</td>\n",
       "      <td>爱情</td>\n",
       "      <td>60284</td>\n",
       "      <td>文艺</td>\n",
       "      <td>58677</td>\n",
       "      <td>人性</td>\n",
       "      <td>56385</td>\n",
       "      <td>同志</td>\n",
       "      <td>49648</td>\n",
       "      <td>人生</td>\n",
       "      <td>45309</td>\n",
       "      <td>剧情</td>\n",
       "      <td>34298</td>\n",
       "    </tr>\n",
       "    <tr>\n",
       "      <th>2</th>\n",
       "      <td>经典</td>\n",
       "      <td>150097</td>\n",
       "      <td>爱情</td>\n",
       "      <td>85994</td>\n",
       "      <td>温情</td>\n",
       "      <td>85000</td>\n",
       "      <td>人性</td>\n",
       "      <td>59611</td>\n",
       "      <td>剧情</td>\n",
       "      <td>53425</td>\n",
       "      <td>动作</td>\n",
       "      <td>41229</td>\n",
       "      <td>犯罪</td>\n",
       "      <td>37171</td>\n",
       "      <td>1994</td>\n",
       "      <td>23234</td>\n",
       "    </tr>\n",
       "    <tr>\n",
       "      <th>3</th>\n",
       "      <td>励志</td>\n",
       "      <td>179046</td>\n",
       "      <td>经典</td>\n",
       "      <td>134124</td>\n",
       "      <td>美国</td>\n",
       "      <td>101061</td>\n",
       "      <td>人生</td>\n",
       "      <td>92361</td>\n",
       "      <td>信念</td>\n",
       "      <td>69678</td>\n",
       "      <td>成长</td>\n",
       "      <td>68910</td>\n",
       "      <td>剧情</td>\n",
       "      <td>38545</td>\n",
       "      <td>人性</td>\n",
       "      <td>29198</td>\n",
       "    </tr>\n",
       "    <tr>\n",
       "      <th>4</th>\n",
       "      <td>意大利</td>\n",
       "      <td>70710</td>\n",
       "      <td>二战</td>\n",
       "      <td>67057</td>\n",
       "      <td>经典</td>\n",
       "      <td>66974</td>\n",
       "      <td>亲情</td>\n",
       "      <td>65271</td>\n",
       "      <td>战争</td>\n",
       "      <td>41626</td>\n",
       "      <td>温情</td>\n",
       "      <td>27446</td>\n",
       "      <td>爱情</td>\n",
       "      <td>23931</td>\n",
       "      <td>人性</td>\n",
       "      <td>23904</td>\n",
       "    </tr>\n",
       "  </tbody>\n",
       "</table>\n",
       "</div>"
      ],
      "text/plain": [
       "  tags_1 tags_counts_1 tags_2 tags_counts_2 tags_3 tags_counts_3 tags_4  \\\n",
       "0     经典        197742     励志        168278     信念        150816     自由   \n",
       "1     经典        124150   中国电影         63691     爱情         60284     文艺   \n",
       "2     经典        150097     爱情         85994     温情         85000     人性   \n",
       "3     励志        179046     经典        134124     美国        101061     人生   \n",
       "4    意大利         70710     二战         67057     经典         66974     亲情   \n",
       "\n",
       "  tags_counts_4 tags_5 tags_counts_5 tags_6 tags_counts_6 tags_7  \\\n",
       "0        136433     美国        100023     人性         97065     人生   \n",
       "1         58677     人性         56385     同志         49648     人生   \n",
       "2         59611     剧情         53425     动作         41229     犯罪   \n",
       "3         92361     信念         69678     成长         68910     剧情   \n",
       "4         65271     战争         41626     温情         27446     爱情   \n",
       "\n",
       "  tags_counts_7 tags_8 tags_counts_8  \n",
       "0         75735     剧情         62038  \n",
       "1         45309     剧情         34298  \n",
       "2         37171   1994         23234  \n",
       "3         38545     人性         29198  \n",
       "4         23931     人性         23904  "
      ]
     },
     "execution_count": 36,
     "metadata": {},
     "output_type": "execute_result"
    }
   ],
   "source": [
    "# 更改列名\n",
    "tags_split.columns = ['tags_1','tags_counts_1','tags_2','tags_counts_2','tags_3','tags_counts_3',\n",
    "                      'tags_4','tags_counts_4','tags_5','tags_counts_5','tags_6','tags_counts_6',\n",
    "                      'tags_7','tags_counts_7','tags_8','tags_counts_8']\n",
    "tags_split.head()"
   ]
  },
  {
   "cell_type": "markdown",
   "metadata": {},
   "source": [
    "### 2.4.8、电影上映时间（init_year）列内容清洗"
   ]
  },
  {
   "cell_type": "code",
   "execution_count": 37,
   "metadata": {},
   "outputs": [
    {
     "data": {
      "text/plain": [
       "0    1994\n",
       "1    1993\n",
       "2    1994\n",
       "3    1994\n",
       "4    1997\n",
       "Name: init_year, dtype: int32"
      ]
     },
     "execution_count": 37,
     "metadata": {},
     "output_type": "execute_result"
    }
   ],
   "source": [
    "# 电影的上映时间：init_year列的处理\n",
    "# 有的电影给出了不同多家上映的时间，其中第一个最早，\n",
    "# 如：第78条-大闹天宫：1961(中国大陆) / 1964(中国大陆) / 1978(中国大陆) / 2004(中国大陆)\n",
    "# 为了格式统一，我们对于好几个年份的情况取第一个值。\n",
    "# display(year_split[77])\n",
    "year_split = df['init_year'].str.split('/').apply(pd.Series)[0].str.strip()\n",
    "# display(year_split[77])\n",
    "# 主要为处理第78条：大闹天宫：1961(中国大陆) / 1964(中国大陆) / 1978(中国大陆) / 2004(中国大陆)\n",
    "year_split = year_split.str.slice(0,4)\n",
    "# display(year_split[77])\n",
    "df['init_year'] = year_split.astype(int)\n",
    "df['init_year'].head()"
   ]
  },
  {
   "cell_type": "markdown",
   "metadata": {
    "collapsed": true
   },
   "source": [
    "### 2.4.9、缺失值检查"
   ]
  },
  {
   "cell_type": "code",
   "execution_count": 38,
   "metadata": {},
   "outputs": [
    {
     "data": {
      "text/html": [
       "<div>\n",
       "<style>\n",
       "    .dataframe thead tr:only-child th {\n",
       "        text-align: right;\n",
       "    }\n",
       "\n",
       "    .dataframe thead th {\n",
       "        text-align: left;\n",
       "    }\n",
       "\n",
       "    .dataframe tbody tr th {\n",
       "        vertical-align: top;\n",
       "    }\n",
       "</style>\n",
       "<table border=\"1\" class=\"dataframe\">\n",
       "  <thead>\n",
       "    <tr style=\"text-align: right;\">\n",
       "      <th></th>\n",
       "      <th>num</th>\n",
       "      <th>title</th>\n",
       "      <th>init_year</th>\n",
       "      <th>area</th>\n",
       "      <th>genre</th>\n",
       "      <th>rating_num</th>\n",
       "      <th>comment_num</th>\n",
       "      <th>language</th>\n",
       "      <th>director</th>\n",
       "      <th>cast</th>\n",
       "      <th>movie_duration</th>\n",
       "      <th>tags</th>\n",
       "    </tr>\n",
       "  </thead>\n",
       "  <tbody>\n",
       "  </tbody>\n",
       "</table>\n",
       "</div>"
      ],
      "text/plain": [
       "Empty DataFrame\n",
       "Columns: [num, title, init_year, area, genre, rating_num, comment_num, language, director, cast, movie_duration, tags]\n",
       "Index: []"
      ]
     },
     "execution_count": 38,
     "metadata": {},
     "output_type": "execute_result"
    }
   ],
   "source": [
    "#没 有缺失值。 \n",
    "# 关于 area_c 、 genre_c 、 language_c 、cast_c 、 tags_c 都经过缺失值处理，也不存在缺失值。\n",
    "df[df.isnull().values == True]"
   ]
  },
  {
   "cell_type": "code",
   "execution_count": 39,
   "metadata": {},
   "outputs": [
    {
     "name": "stdout",
     "output_type": "stream",
     "text": [
      "<class 'pandas.core.frame.DataFrame'>\n",
      "Int64Index: 250 entries, 0 to 249\n",
      "Data columns (total 12 columns):\n",
      "num               250 non-null int64\n",
      "title             250 non-null object\n",
      "init_year         250 non-null int32\n",
      "area              250 non-null object\n",
      "genre             250 non-null object\n",
      "rating_num        250 non-null float64\n",
      "comment_num       250 non-null int64\n",
      "language          250 non-null object\n",
      "director          250 non-null object\n",
      "cast              250 non-null object\n",
      "movie_duration    250 non-null int32\n",
      "tags              250 non-null object\n",
      "dtypes: float64(1), int32(2), int64(2), object(7)\n",
      "memory usage: 33.4+ KB\n"
     ]
    }
   ],
   "source": [
    "# 再来看一下基本信息：\n",
    "df.info()"
   ]
  },
  {
   "cell_type": "markdown",
   "metadata": {
    "collapsed": true
   },
   "source": [
    "# 三、数据分析"
   ]
  },
  {
   "cell_type": "markdown",
   "metadata": {
    "collapsed": true
   },
   "source": [
    "### 3.1、数值型列数据统计"
   ]
  },
  {
   "cell_type": "code",
   "execution_count": 40,
   "metadata": {},
   "outputs": [
    {
     "data": {
      "text/html": [
       "<div>\n",
       "<style>\n",
       "    .dataframe thead tr:only-child th {\n",
       "        text-align: right;\n",
       "    }\n",
       "\n",
       "    .dataframe thead th {\n",
       "        text-align: left;\n",
       "    }\n",
       "\n",
       "    .dataframe tbody tr th {\n",
       "        vertical-align: top;\n",
       "    }\n",
       "</style>\n",
       "<table border=\"1\" class=\"dataframe\">\n",
       "  <thead>\n",
       "    <tr style=\"text-align: right;\">\n",
       "      <th></th>\n",
       "      <th>num</th>\n",
       "      <th>init_year</th>\n",
       "      <th>rating_num</th>\n",
       "      <th>comment_num</th>\n",
       "      <th>movie_duration</th>\n",
       "    </tr>\n",
       "  </thead>\n",
       "  <tbody>\n",
       "    <tr>\n",
       "      <th>count</th>\n",
       "      <td>250.000000</td>\n",
       "      <td>250.000000</td>\n",
       "      <td>250.000000</td>\n",
       "      <td>250.000000</td>\n",
       "      <td>250.00000</td>\n",
       "    </tr>\n",
       "    <tr>\n",
       "      <th>mean</th>\n",
       "      <td>125.500000</td>\n",
       "      <td>1998.672000</td>\n",
       "      <td>8.780000</td>\n",
       "      <td>265018.144000</td>\n",
       "      <td>121.40800</td>\n",
       "    </tr>\n",
       "    <tr>\n",
       "      <th>std</th>\n",
       "      <td>72.312977</td>\n",
       "      <td>15.687089</td>\n",
       "      <td>0.272722</td>\n",
       "      <td>161767.099974</td>\n",
       "      <td>29.62716</td>\n",
       "    </tr>\n",
       "    <tr>\n",
       "      <th>min</th>\n",
       "      <td>1.000000</td>\n",
       "      <td>1931.000000</td>\n",
       "      <td>8.200000</td>\n",
       "      <td>44329.000000</td>\n",
       "      <td>45.00000</td>\n",
       "    </tr>\n",
       "    <tr>\n",
       "      <th>25%</th>\n",
       "      <td>63.250000</td>\n",
       "      <td>1994.000000</td>\n",
       "      <td>8.600000</td>\n",
       "      <td>143972.250000</td>\n",
       "      <td>99.25000</td>\n",
       "    </tr>\n",
       "    <tr>\n",
       "      <th>50%</th>\n",
       "      <td>125.500000</td>\n",
       "      <td>2002.000000</td>\n",
       "      <td>8.700000</td>\n",
       "      <td>230139.500000</td>\n",
       "      <td>117.00000</td>\n",
       "    </tr>\n",
       "    <tr>\n",
       "      <th>75%</th>\n",
       "      <td>187.750000</td>\n",
       "      <td>2009.000000</td>\n",
       "      <td>8.900000</td>\n",
       "      <td>332168.750000</td>\n",
       "      <td>136.00000</td>\n",
       "    </tr>\n",
       "    <tr>\n",
       "      <th>max</th>\n",
       "      <td>250.000000</td>\n",
       "      <td>2016.000000</td>\n",
       "      <td>9.600000</td>\n",
       "      <td>964842.000000</td>\n",
       "      <td>238.00000</td>\n",
       "    </tr>\n",
       "  </tbody>\n",
       "</table>\n",
       "</div>"
      ],
      "text/plain": [
       "              num    init_year  rating_num    comment_num  movie_duration\n",
       "count  250.000000   250.000000  250.000000     250.000000       250.00000\n",
       "mean   125.500000  1998.672000    8.780000  265018.144000       121.40800\n",
       "std     72.312977    15.687089    0.272722  161767.099974        29.62716\n",
       "min      1.000000  1931.000000    8.200000   44329.000000        45.00000\n",
       "25%     63.250000  1994.000000    8.600000  143972.250000        99.25000\n",
       "50%    125.500000  2002.000000    8.700000  230139.500000       117.00000\n",
       "75%    187.750000  2009.000000    8.900000  332168.750000       136.00000\n",
       "max    250.000000  2016.000000    9.600000  964842.000000       238.00000"
      ]
     },
     "execution_count": 40,
     "metadata": {},
     "output_type": "execute_result"
    }
   ],
   "source": [
    "# 用 describe() 函数看一下数值型数据的统计信息：\n",
    "df.describe()"
   ]
  },
  {
   "cell_type": "markdown",
   "metadata": {
    "collapsed": true
   },
   "source": [
    " **结果分析**\n",
    "\n",
    "从以上结果可以看出，在“豆瓣电影Top250”榜单中 ：\n",
    "\n",
    "- 上映时间最早为1931年，最晚为2016年；\n",
    "- 评分最低为8.2分，最高9.6分，平均分为8.78分；\n",
    "- 评论数量最低44329条，最高964842条；\n",
    "- 电影时长最短为45分钟，最长238分，平均时长121.408分钟\n",
    "- 第一四分位书为99.25分钟，看来绝多数电影时长还是大于90分钟的\n"
   ]
  },
  {
   "cell_type": "markdown",
   "metadata": {
    "collapsed": true
   },
   "source": [
    "### 3.2、电影排名分析"
   ]
  },
  {
   "cell_type": "code",
   "execution_count": 41,
   "metadata": {},
   "outputs": [
    {
     "data": {
      "text/html": [
       "<div>\n",
       "<style>\n",
       "    .dataframe thead tr:only-child th {\n",
       "        text-align: right;\n",
       "    }\n",
       "\n",
       "    .dataframe thead th {\n",
       "        text-align: left;\n",
       "    }\n",
       "\n",
       "    .dataframe tbody tr th {\n",
       "        vertical-align: top;\n",
       "    }\n",
       "</style>\n",
       "<table border=\"1\" class=\"dataframe\">\n",
       "  <thead>\n",
       "    <tr style=\"text-align: right;\">\n",
       "      <th></th>\n",
       "      <th>num</th>\n",
       "      <th>title</th>\n",
       "    </tr>\n",
       "  </thead>\n",
       "  <tbody>\n",
       "    <tr>\n",
       "      <th>0</th>\n",
       "      <td>1</td>\n",
       "      <td>肖申克的救赎</td>\n",
       "    </tr>\n",
       "    <tr>\n",
       "      <th>1</th>\n",
       "      <td>2</td>\n",
       "      <td>霸王别姬</td>\n",
       "    </tr>\n",
       "    <tr>\n",
       "      <th>2</th>\n",
       "      <td>3</td>\n",
       "      <td>这个杀手不太冷</td>\n",
       "    </tr>\n",
       "    <tr>\n",
       "      <th>3</th>\n",
       "      <td>4</td>\n",
       "      <td>阿甘正传</td>\n",
       "    </tr>\n",
       "    <tr>\n",
       "      <th>4</th>\n",
       "      <td>5</td>\n",
       "      <td>美丽人生</td>\n",
       "    </tr>\n",
       "    <tr>\n",
       "      <th>5</th>\n",
       "      <td>6</td>\n",
       "      <td>千与千寻</td>\n",
       "    </tr>\n",
       "    <tr>\n",
       "      <th>6</th>\n",
       "      <td>7</td>\n",
       "      <td>泰坦尼克号</td>\n",
       "    </tr>\n",
       "    <tr>\n",
       "      <th>7</th>\n",
       "      <td>8</td>\n",
       "      <td>辛德勒的名单</td>\n",
       "    </tr>\n",
       "    <tr>\n",
       "      <th>8</th>\n",
       "      <td>9</td>\n",
       "      <td>盗梦空间</td>\n",
       "    </tr>\n",
       "    <tr>\n",
       "      <th>9</th>\n",
       "      <td>10</td>\n",
       "      <td>机器人总动员</td>\n",
       "    </tr>\n",
       "  </tbody>\n",
       "</table>\n",
       "</div>"
      ],
      "text/plain": [
       "   num    title\n",
       "0    1   肖申克的救赎\n",
       "1    2     霸王别姬\n",
       "2    3  这个杀手不太冷\n",
       "3    4     阿甘正传\n",
       "4    5     美丽人生\n",
       "5    6     千与千寻\n",
       "6    7    泰坦尼克号\n",
       "7    8   辛德勒的名单\n",
       "8    9     盗梦空间\n",
       "9   10   机器人总动员"
      ]
     },
     "execution_count": 41,
     "metadata": {},
     "output_type": "execute_result"
    }
   ],
   "source": [
    "# 先简单看下数据\n",
    "df[['num','title']].head(10)"
   ]
  },
  {
   "cell_type": "markdown",
   "metadata": {
    "collapsed": true
   },
   "source": [
    "### 3.2.1、按评分排名-top10分析"
   ]
  },
  {
   "cell_type": "code",
   "execution_count": 42,
   "metadata": {},
   "outputs": [
    {
     "data": {
      "text/html": [
       "<div>\n",
       "<style>\n",
       "    .dataframe thead tr:only-child th {\n",
       "        text-align: right;\n",
       "    }\n",
       "\n",
       "    .dataframe thead th {\n",
       "        text-align: left;\n",
       "    }\n",
       "\n",
       "    .dataframe tbody tr th {\n",
       "        vertical-align: top;\n",
       "    }\n",
       "</style>\n",
       "<table border=\"1\" class=\"dataframe\">\n",
       "  <thead>\n",
       "    <tr style=\"text-align: right;\">\n",
       "      <th></th>\n",
       "      <th>index</th>\n",
       "      <th>rating_num</th>\n",
       "      <th>title</th>\n",
       "    </tr>\n",
       "  </thead>\n",
       "  <tbody>\n",
       "    <tr>\n",
       "      <th>0</th>\n",
       "      <td>0</td>\n",
       "      <td>9.6</td>\n",
       "      <td>肖申克的救赎</td>\n",
       "    </tr>\n",
       "    <tr>\n",
       "      <th>1</th>\n",
       "      <td>41</td>\n",
       "      <td>9.6</td>\n",
       "      <td>控方证人</td>\n",
       "    </tr>\n",
       "    <tr>\n",
       "      <th>2</th>\n",
       "      <td>1</td>\n",
       "      <td>9.5</td>\n",
       "      <td>霸王别姬</td>\n",
       "    </tr>\n",
       "    <tr>\n",
       "      <th>3</th>\n",
       "      <td>4</td>\n",
       "      <td>9.5</td>\n",
       "      <td>美丽人生</td>\n",
       "    </tr>\n",
       "    <tr>\n",
       "      <th>4</th>\n",
       "      <td>7</td>\n",
       "      <td>9.4</td>\n",
       "      <td>辛德勒的名单</td>\n",
       "    </tr>\n",
       "    <tr>\n",
       "      <th>5</th>\n",
       "      <td>26</td>\n",
       "      <td>9.4</td>\n",
       "      <td>十二怒汉</td>\n",
       "    </tr>\n",
       "    <tr>\n",
       "      <th>6</th>\n",
       "      <td>3</td>\n",
       "      <td>9.4</td>\n",
       "      <td>阿甘正传</td>\n",
       "    </tr>\n",
       "    <tr>\n",
       "      <th>7</th>\n",
       "      <td>2</td>\n",
       "      <td>9.4</td>\n",
       "      <td>这个杀手不太冷</td>\n",
       "    </tr>\n",
       "    <tr>\n",
       "      <th>8</th>\n",
       "      <td>8</td>\n",
       "      <td>9.3</td>\n",
       "      <td>盗梦空间</td>\n",
       "    </tr>\n",
       "    <tr>\n",
       "      <th>9</th>\n",
       "      <td>43</td>\n",
       "      <td>9.3</td>\n",
       "      <td>海豚湾</td>\n",
       "    </tr>\n",
       "  </tbody>\n",
       "</table>\n",
       "</div>"
      ],
      "text/plain": [
       "   index  rating_num    title\n",
       "0      0         9.6   肖申克的救赎\n",
       "1     41         9.6     控方证人\n",
       "2      1         9.5     霸王别姬\n",
       "3      4         9.5     美丽人生\n",
       "4      7         9.4   辛德勒的名单\n",
       "5     26         9.4     十二怒汉\n",
       "6      3         9.4     阿甘正传\n",
       "7      2         9.4  这个杀手不太冷\n",
       "8      8         9.3     盗梦空间\n",
       "9     43         9.3      海豚湾"
      ]
     },
     "execution_count": 42,
     "metadata": {},
     "output_type": "execute_result"
    }
   ],
   "source": [
    "Top10_rating_num = df[['rating_num','title']].sort_values(by = ['rating_num'],ascending = False).head(10).reset_index()\n",
    "Top10_rating_num"
   ]
  },
  {
   "cell_type": "markdown",
   "metadata": {
    "collapsed": true
   },
   "source": [
    "### 3.2.2、 按评价数量排名-top10分析"
   ]
  },
  {
   "cell_type": "code",
   "execution_count": 43,
   "metadata": {},
   "outputs": [
    {
     "data": {
      "text/html": [
       "<div>\n",
       "<style>\n",
       "    .dataframe thead tr:only-child th {\n",
       "        text-align: right;\n",
       "    }\n",
       "\n",
       "    .dataframe thead th {\n",
       "        text-align: left;\n",
       "    }\n",
       "\n",
       "    .dataframe tbody tr th {\n",
       "        vertical-align: top;\n",
       "    }\n",
       "</style>\n",
       "<table border=\"1\" class=\"dataframe\">\n",
       "  <thead>\n",
       "    <tr style=\"text-align: right;\">\n",
       "      <th></th>\n",
       "      <th>index</th>\n",
       "      <th>comment_num</th>\n",
       "      <th>title</th>\n",
       "    </tr>\n",
       "  </thead>\n",
       "  <tbody>\n",
       "    <tr>\n",
       "      <th>0</th>\n",
       "      <td>0</td>\n",
       "      <td>964842</td>\n",
       "      <td>肖申克的救赎</td>\n",
       "    </tr>\n",
       "    <tr>\n",
       "      <th>1</th>\n",
       "      <td>2</td>\n",
       "      <td>912435</td>\n",
       "      <td>这个杀手不太冷</td>\n",
       "    </tr>\n",
       "    <tr>\n",
       "      <th>2</th>\n",
       "      <td>8</td>\n",
       "      <td>819985</td>\n",
       "      <td>盗梦空间</td>\n",
       "    </tr>\n",
       "    <tr>\n",
       "      <th>3</th>\n",
       "      <td>3</td>\n",
       "      <td>775889</td>\n",
       "      <td>阿甘正传</td>\n",
       "    </tr>\n",
       "    <tr>\n",
       "      <th>4</th>\n",
       "      <td>11</td>\n",
       "      <td>732146</td>\n",
       "      <td>三傻大闹宝莱坞</td>\n",
       "    </tr>\n",
       "    <tr>\n",
       "      <th>5</th>\n",
       "      <td>5</td>\n",
       "      <td>725483</td>\n",
       "      <td>千与千寻</td>\n",
       "    </tr>\n",
       "    <tr>\n",
       "      <th>6</th>\n",
       "      <td>6</td>\n",
       "      <td>716225</td>\n",
       "      <td>泰坦尼克号</td>\n",
       "    </tr>\n",
       "    <tr>\n",
       "      <th>7</th>\n",
       "      <td>1</td>\n",
       "      <td>699930</td>\n",
       "      <td>霸王别姬</td>\n",
       "    </tr>\n",
       "    <tr>\n",
       "      <th>8</th>\n",
       "      <td>75</td>\n",
       "      <td>651633</td>\n",
       "      <td>让子弹飞</td>\n",
       "    </tr>\n",
       "    <tr>\n",
       "      <th>9</th>\n",
       "      <td>10</td>\n",
       "      <td>635805</td>\n",
       "      <td>海上钢琴师</td>\n",
       "    </tr>\n",
       "  </tbody>\n",
       "</table>\n",
       "</div>"
      ],
      "text/plain": [
       "   index  comment_num    title\n",
       "0      0       964842   肖申克的救赎\n",
       "1      2       912435  这个杀手不太冷\n",
       "2      8       819985     盗梦空间\n",
       "3      3       775889     阿甘正传\n",
       "4     11       732146  三傻大闹宝莱坞\n",
       "5      5       725483     千与千寻\n",
       "6      6       716225    泰坦尼克号\n",
       "7      1       699930     霸王别姬\n",
       "8     75       651633     让子弹飞\n",
       "9     10       635805    海上钢琴师"
      ]
     },
     "execution_count": 43,
     "metadata": {},
     "output_type": "execute_result"
    }
   ],
   "source": [
    "Top10_comment_num = df[['comment_num','title']].sort_values(by = ['comment_num'],ascending = False).head(10).reset_index()\n",
    "Top10_comment_num"
   ]
  },
  {
   "cell_type": "markdown",
   "metadata": {
    "collapsed": true
   },
   "source": [
    "**结果分析**\n",
    "- 《申肖克的救赎》无论评分、评论人数还是总排名稳居榜首\n",
    "- 居于第二位的《霸王别姬》的评分排名并列第三，评论数排名第8位\n",
    "- 由上可见，总排名还有其他因素有关，不仅是评分及评价数量。"
   ]
  },
  {
   "cell_type": "markdown",
   "metadata": {
    "collapsed": true
   },
   "source": [
    "### 3.3、上榜次数统计分析"
   ]
  },
  {
   "cell_type": "markdown",
   "metadata": {
    "collapsed": true
   },
   "source": [
    "#### 3.3.1、上榜次数最多导演统计"
   ]
  },
  {
   "cell_type": "code",
   "execution_count": 44,
   "metadata": {},
   "outputs": [
    {
     "data": {
      "text/plain": [
       "宫崎骏 Hayao Miyazaki            7\n",
       "克里斯托弗·诺兰 Christopher Nolan    7\n",
       "史蒂文·斯皮尔伯格 Steven Spielberg    5\n",
       "王家卫 Kar Wai Wong              5\n",
       "大卫·芬奇 David Fincher           4\n",
       "Name: director, dtype: int64"
      ]
     },
     "execution_count": 44,
     "metadata": {},
     "output_type": "execute_result"
    }
   ],
   "source": [
    "df['director'].value_counts().head()"
   ]
  },
  {
   "cell_type": "markdown",
   "metadata": {
    "collapsed": true
   },
   "source": [
    "** 结果分析：**\n",
    "- “克里斯托弗·诺兰 Christopher Nolan”和“宫崎骏 Hayao Miyazaki ”上榜次数最多，同为7次"
   ]
  },
  {
   "cell_type": "markdown",
   "metadata": {
    "collapsed": true
   },
   "source": [
    "#### 3.3.2、上榜次数最多演员统计"
   ]
  },
  {
   "cell_type": "code",
   "execution_count": 45,
   "metadata": {},
   "outputs": [
    {
     "data": {
      "text/html": [
       "<div>\n",
       "<style>\n",
       "    .dataframe thead tr:only-child th {\n",
       "        text-align: right;\n",
       "    }\n",
       "\n",
       "    .dataframe thead th {\n",
       "        text-align: left;\n",
       "    }\n",
       "\n",
       "    .dataframe tbody tr th {\n",
       "        vertical-align: top;\n",
       "    }\n",
       "</style>\n",
       "<table border=\"1\" class=\"dataframe\">\n",
       "  <thead>\n",
       "    <tr style=\"text-align: right;\">\n",
       "      <th></th>\n",
       "      <th>counts</th>\n",
       "    </tr>\n",
       "    <tr>\n",
       "      <th>performers</th>\n",
       "      <th></th>\n",
       "    </tr>\n",
       "  </thead>\n",
       "  <tbody>\n",
       "    <tr>\n",
       "      <th>张国荣 Leslie Cheung</th>\n",
       "      <td>8</td>\n",
       "    </tr>\n",
       "    <tr>\n",
       "      <th>张曼玉 Maggie Cheung</th>\n",
       "      <td>7</td>\n",
       "    </tr>\n",
       "    <tr>\n",
       "      <th>汤姆·汉克斯 Tom Hanks</th>\n",
       "      <td>7</td>\n",
       "    </tr>\n",
       "    <tr>\n",
       "      <th>梁朝伟 Tony Leung Chiu Wai</th>\n",
       "      <td>7</td>\n",
       "    </tr>\n",
       "    <tr>\n",
       "      <th>雨果·维文 Hugo Weaving</th>\n",
       "      <td>7</td>\n",
       "    </tr>\n",
       "    <tr>\n",
       "      <th>伊桑·霍克 Ethan Hawke</th>\n",
       "      <td>6</td>\n",
       "    </tr>\n",
       "    <tr>\n",
       "      <th>布拉德·皮特 Brad Pitt</th>\n",
       "      <td>6</td>\n",
       "    </tr>\n",
       "    <tr>\n",
       "      <th>马特·达蒙 Matt Damon</th>\n",
       "      <td>6</td>\n",
       "    </tr>\n",
       "    <tr>\n",
       "      <th>莱昂纳多·迪卡普里奥 Leonardo DiCaprio</th>\n",
       "      <td>6</td>\n",
       "    </tr>\n",
       "    <tr>\n",
       "      <th>琼·艾伦 Joan Allen</th>\n",
       "      <td>6</td>\n",
       "    </tr>\n",
       "  </tbody>\n",
       "</table>\n",
       "</div>"
      ],
      "text/plain": [
       "                              counts\n",
       "performers                          \n",
       "张国荣 Leslie Cheung                  8\n",
       "张曼玉 Maggie Cheung                  7\n",
       "汤姆·汉克斯 Tom Hanks                   7\n",
       "梁朝伟 Tony Leung Chiu Wai            7\n",
       "雨果·维文 Hugo Weaving                 7\n",
       "伊桑·霍克 Ethan Hawke                  6\n",
       "布拉德·皮特 Brad Pitt                   6\n",
       "马特·达蒙 Matt Damon                   6\n",
       "莱昂纳多·迪卡普里奥 Leonardo DiCaprio       6\n",
       "琼·艾伦 Joan Allen                    6"
      ]
     },
     "execution_count": 45,
     "metadata": {},
     "output_type": "execute_result"
    }
   ],
   "source": [
    "cast_c.sort_values(by = ['counts'], ascending = False).head(10)"
   ]
  },
  {
   "cell_type": "markdown",
   "metadata": {
    "collapsed": true
   },
   "source": [
    "** 结果分析：**\n",
    "- 上榜次数最多的演员是“张国荣 Leslie Cheung”，高达8次\n",
    "- 这也是每年大家对他纪念的一个原因吧，这么多经典的作品，永远被铭记。"
   ]
  },
  {
   "cell_type": "markdown",
   "metadata": {
    "collapsed": true
   },
   "source": [
    "#  四、可视化数据分析（maplotLib版）"
   ]
  },
  {
   "cell_type": "markdown",
   "metadata": {
    "collapsed": true
   },
   "source": [
    "### 4.0、maplotLib 可视化包基本环境配置"
   ]
  },
  {
   "cell_type": "code",
   "execution_count": 46,
   "metadata": {
    "collapsed": true
   },
   "outputs": [],
   "source": [
    "# step01- 导包\n",
    "import matplotlib.pyplot as plt\n",
    "import matplotlib\n",
    "# step02 - 配置\n",
    "matplotlib.rcParams['font.family'] = 'SimHei' #配置中文字体\n",
    "matplotlib.rcParams['font.size'] = 15   # 更改默认字体大小  \n",
    "\n",
    "%matplotlib inline"
   ]
  },
  {
   "cell_type": "markdown",
   "metadata": {
    "collapsed": true
   },
   "source": [
    "### 4.1、排名与评分的关系-可视化分析"
   ]
  },
  {
   "cell_type": "code",
   "execution_count": 47,
   "metadata": {},
   "outputs": [
    {
     "data": {
      "image/png": "[encoded data removed]",
      "text/plain": [
       "<Figure size 432x288 with 1 Axes>"
      ]
     },
     "metadata": {},
     "output_type": "display_data"
    }
   ],
   "source": [
    "plt.scatter(df['rating_num'], df['num']) #绘制散点图\n",
    "plt.xlabel('rating_num')    #x轴标签\n",
    "plt.ylabel('ranking list')  #y轴标签\n",
    "plt.show()"
   ]
  },
  {
   "cell_type": "markdown",
   "metadata": {
    "collapsed": true
   },
   "source": [
    "** 结论 ** \n",
    "- 排名越靠前，即num越小，分数越高"
   ]
  },
  {
   "cell_type": "markdown",
   "metadata": {
    "collapsed": true
   },
   "source": [
    "** 优化 **\n",
    "- 但上图看着还是有些别扭，因为我们习惯了排名靠前的在 y 轴的上方\n",
    "- 可以用 invert_yaxis() 函数来改变 y 轴标签的顺序\n",
    "- 重构可视化显示"
   ]
  },
  {
   "cell_type": "code",
   "execution_count": 48,
   "metadata": {},
   "outputs": [
    {
     "data": {
      "image/png": "[encoded data removed]",
      "text/plain": [
       "<Figure size 1008x432 with 2 Axes>"
      ]
     },
     "metadata": {},
     "output_type": "display_data"
    }
   ],
   "source": [
    "plt.figure(figsize=(14,6)) \n",
    "plt.subplot(1,2,1)\n",
    "plt.scatter(df['rating_num'], df['num'])\n",
    "plt.xlabel('rating_num')\n",
    "plt.ylabel('ranking list')\n",
    "plt.gca().invert_yaxis()\n",
    "\n",
    "plt.subplot(1,2,2)\n",
    "plt.hist(df['rating_num'],bins = 15)\n",
    "plt.xlabel('rating_num')\n",
    "plt.show()"
   ]
  },
  {
   "cell_type": "code",
   "execution_count": 49,
   "metadata": {},
   "outputs": [
    {
     "data": {
      "text/plain": [
       "-0.692865541445853"
      ]
     },
     "execution_count": 49,
     "metadata": {},
     "output_type": "execute_result"
    }
   ],
   "source": [
    "# 利用“泊松分布” 显示相关性\n",
    "df['num'].corr(df['rating_num'])"
   ]
  },
  {
   "cell_type": "markdown",
   "metadata": {
    "collapsed": true
   },
   "source": [
    "** 结论：**\n",
    "        豆瓣评分大多是集中在 8.3 - 9.2 之间，随评分的升高，豆瓣Top250排名名次大致提前，Pearson相关系数为 -0.6928 ，呈强相关性。"
   ]
  },
  {
   "cell_type": "markdown",
   "metadata": {
    "collapsed": true
   },
   "source": [
    "### 4.2、排名与评论人数的关系-可视化分析 "
   ]
  },
  {
   "cell_type": "code",
   "execution_count": 50,
   "metadata": {},
   "outputs": [
    {
     "data": {
      "image/png": "[encoded data removed]",
      "text/plain": [
       "<Figure size 1008x432 with 2 Axes>"
      ]
     },
     "metadata": {},
     "output_type": "display_data"
    }
   ],
   "source": [
    "plt.figure(figsize=(14,6)) \n",
    "plt.subplot(1,2,1)\n",
    "plt.scatter(df['comment_num'], df['num'])\n",
    "plt.xlabel('comment_num')\n",
    "plt.ylabel('ranking list')\n",
    "plt.gca().invert_yaxis()\n",
    "\n",
    "plt.subplot(1,2,2)\n",
    "plt.hist(df['comment_num'])\n",
    "plt.xlabel('comment_num')\n",
    "plt.show()"
   ]
  },
  {
   "cell_type": "code",
   "execution_count": 51,
   "metadata": {},
   "outputs": [
    {
     "data": {
      "text/plain": [
       "-0.6543641213113"
      ]
     },
     "execution_count": 51,
     "metadata": {},
     "output_type": "execute_result"
    }
   ],
   "source": [
    "# 利用“泊松分布” 显示相关性\n",
    "df['num'].corr(df['comment_num'])"
   ]
  },
  {
   "cell_type": "markdown",
   "metadata": {
    "collapsed": true
   },
   "source": [
    "** 结论：** 评价人数呈右偏分布，随评价人数的增多，豆瓣Top250排名名次有提前趋势，Pearson相关系数为 -0.6543 ，呈强相关性。"
   ]
  },
  {
   "cell_type": "markdown",
   "metadata": {
    "collapsed": true
   },
   "source": [
    "### 4.3、排名与电影时长的关系-可视化分析"
   ]
  },
  {
   "cell_type": "code",
   "execution_count": 52,
   "metadata": {},
   "outputs": [
    {
     "data": {
      "text/plain": [
       "<Figure size 432x288 with 0 Axes>"
      ]
     },
     "metadata": {},
     "output_type": "display_data"
    },
    {
     "data": {
      "image/png": "[encoded data removed]",
      "text/plain": [
       "<Figure size 1008x432 with 2 Axes>"
      ]
     },
     "metadata": {},
     "output_type": "display_data"
    }
   ],
   "source": [
    "plt.figure(1)\n",
    "plt.figure(figsize=(14,6)) \n",
    "plt.subplot(1,2,1)\n",
    "plt.scatter(df['movie_duration'], df['num'])\n",
    "plt.xlabel('movie_duration')\n",
    "plt.ylabel('ranking list')\n",
    "plt.gca().invert_yaxis()\n",
    "\n",
    "plt.subplot(1,2,2)\n",
    "plt.hist(df['movie_duration'],bins = 50)\n",
    "plt.xlabel('movie_duration')\n",
    "plt.show()"
   ]
  },
  {
   "cell_type": "code",
   "execution_count": 53,
   "metadata": {},
   "outputs": [
    {
     "data": {
      "text/plain": [
       "-0.26275220105622027"
      ]
     },
     "execution_count": 53,
     "metadata": {},
     "output_type": "execute_result"
    }
   ],
   "source": [
    "# 利用“泊松分布” 显示相关性\n",
    "df['num'].corr(df['movie_duration'])"
   ]
  },
  {
   "cell_type": "markdown",
   "metadata": {},
   "source": [
    "** 结论：** \n",
    "电影时长多数集中在 80-120 分钟之间，与豆瓣电影Top250之间关系不大，Pearson相关系数为 -0.2627 ，为弱相关性。"
   ]
  },
  {
   "cell_type": "markdown",
   "metadata": {},
   "source": [
    "### 4.4、排名与上映年份的关系-可视化分析"
   ]
  },
  {
   "cell_type": "code",
   "execution_count": 54,
   "metadata": {},
   "outputs": [
    {
     "data": {
      "text/plain": [
       "<Figure size 432x288 with 0 Axes>"
      ]
     },
     "metadata": {},
     "output_type": "display_data"
    },
    {
     "data": {
      "image/png": "[encoded data removed]",
      "text/plain": [
       "<Figure size 1008x432 with 2 Axes>"
      ]
     },
     "metadata": {},
     "output_type": "display_data"
    }
   ],
   "source": [
    "plt.figure(1)\n",
    "plt.figure(figsize=(14,6)) \n",
    "plt.subplot(1,2,1)\n",
    "plt.scatter(df['init_year'], df['num'])\n",
    "plt.xlabel('init_year')\n",
    "plt.ylabel('ranking list')\n",
    "plt.gca().invert_yaxis()\n",
    "\n",
    "plt.subplot(1,2,2)\n",
    "plt.hist(df['init_year'],bins = 30)\n",
    "plt.xlabel('init_year')\n",
    "plt.show()"
   ]
  },
  {
   "cell_type": "code",
   "execution_count": 55,
   "metadata": {},
   "outputs": [
    {
     "data": {
      "text/plain": [
       "0.08862119583690976"
      ]
     },
     "execution_count": 55,
     "metadata": {},
     "output_type": "execute_result"
    }
   ],
   "source": [
    "# 利用“泊松分布” 显示相关性\n",
    "df['num'].corr(df['init_year'])"
   ]
  },
  {
   "cell_type": "markdown",
   "metadata": {},
   "source": [
    "** 结论：** 上映年份多数其中在1990年之后，pearson相关系数为0.0862，与豆瓣电影Top250没有相关性。"
   ]
  },
  {
   "cell_type": "markdown",
   "metadata": {},
   "source": [
    "### 4.5、国家/地区 电影top250排名统计-可视化分析"
   ]
  },
  {
   "cell_type": "code",
   "execution_count": 56,
   "metadata": {},
   "outputs": [
    {
     "data": {
      "image/png": "[encoded data removed]",
      "text/plain": [
       "<Figure size 864x432 with 1 Axes>"
      ]
     },
     "metadata": {},
     "output_type": "display_data"
    }
   ],
   "source": [
    "data=area_c.sort_values(by = 'counts',ascending = False).plot(kind ='bar', figsize = (12,6))\n",
    "plt.show()"
   ]
  },
  {
   "cell_type": "markdown",
   "metadata": {},
   "source": [
    "** 结论：** 上榜电影中，美国电影数量最多，中国大陆排第七位。"
   ]
  },
  {
   "cell_type": "markdown",
   "metadata": {},
   "source": [
    "### 4.6、电影语言排名统计-可视化分析"
   ]
  },
  {
   "cell_type": "code",
   "execution_count": 57,
   "metadata": {},
   "outputs": [
    {
     "data": {
      "image/png": "[encoded data removed]",
      "text/plain": [
       "<Figure size 864x432 with 1 Axes>"
      ]
     },
     "metadata": {},
     "output_type": "display_data"
    }
   ],
   "source": [
    "language_c.sort_values(by = 'counts',ascending = False)[:20].plot(kind ='bar', figsize = (12,6))\n",
    "plt.show()"
   ]
  },
  {
   "cell_type": "markdown",
   "metadata": {},
   "source": [
    "** 结论：** 上榜电影使用最多的语言为英语，汉语普通话排第四位。"
   ]
  },
  {
   "cell_type": "markdown",
   "metadata": {},
   "source": [
    "### 4.7、电影类型排名统计-可视化分析"
   ]
  },
  {
   "cell_type": "code",
   "execution_count": 58,
   "metadata": {},
   "outputs": [
    {
     "data": {
      "image/png": "[encoded data removed]",
      "text/plain": [
       "<Figure size 864x432 with 1 Axes>"
      ]
     },
     "metadata": {},
     "output_type": "display_data"
    }
   ],
   "source": [
    "genre_c.sort_values(by = 'counts',ascending = False).plot(kind ='bar', figsize = (12,6))\n",
    "plt.show()"
   ]
  },
  {
   "cell_type": "code",
   "execution_count": 59,
   "metadata": {
    "collapsed": true
   },
   "outputs": [],
   "source": [
    "#通过代码动态安装第三方组件\n",
    "# import pip\n",
    "# def install(package):\n",
    "#    pip.main(['install', package])\n",
    "\n",
    "# install('wordcloud') "
   ]
  },
  {
   "cell_type": "markdown",
   "metadata": {},
   "source": [
    "** 结论：** 最多的电影类型是剧情，其次是爱情。"
   ]
  },
  {
   "cell_type": "markdown",
   "metadata": {},
   "source": [
    "### 4.8、电影标签热度词云统计-可视化分析"
   ]
  },
  {
   "cell_type": "code",
   "execution_count": 60,
   "metadata": {},
   "outputs": [
    {
     "data": {
      "image/png": "[encoded data removed]",
      "text/plain": [
       "<Figure size 1152x576 with 1 Axes>"
      ]
     },
     "metadata": {},
     "output_type": "display_data"
    }
   ],
   "source": [
    "import wordcloud\n",
    "from wordcloud import WordCloud\n",
    "\n",
    "\n",
    "text = tags_split[['tags_1','tags_2','tags_3','tags_4','tags_5','tags_6','tags_7','tags_8']].to_string(header=False, index=False )\n",
    "\n",
    "wordcloud = WordCloud(font_path='msyh.ttf',background_color='white',width=500, height=300, margin=5).generate(text)\n",
    "plt.figure(figsize=(16,8))\n",
    "plt.imshow(wordcloud)\n",
    "plt.axis('off')\n",
    "plt.show()"
   ]
  },
  {
   "cell_type": "markdown",
   "metadata": {},
   "source": [
    "# 五、可视化数据分析（Seaborn版）"
   ]
  },
  {
   "cell_type": "code",
   "execution_count": 61,
   "metadata": {},
   "outputs": [],
   "source": [
    "#通过代码动态安装第三方组件\n",
    "# # 注意安装的pyecharts的版本\n",
    "# install('seaborn') "
   ]
  },
  {
   "cell_type": "markdown",
   "metadata": {},
   "source": [
    "### 5.1、数据可视化分析-电影类型排名统计"
   ]
  },
  {
   "cell_type": "code",
   "execution_count": 62,
   "metadata": {
    "collapsed": true
   },
   "outputs": [],
   "source": [
    "import seaborn as sns\n",
    "\n",
    "#申明使用Seaborn样式并显示中文\n",
    "sns.set(font_scale=1.8,font='simhei',style='white')\n"
   ]
  },
  {
   "cell_type": "code",
   "execution_count": 63,
   "metadata": {},
   "outputs": [
    {
     "data": {
      "image/png": "[encoded data removed]",
      "text/plain": [
       "<Figure size 1440x576 with 1 Axes>"
      ]
     },
     "metadata": {},
     "output_type": "display_data"
    }
   ],
   "source": [
    "data = genre_c.sort_values(by = 'counts',ascending = False).reset_index()\n",
    "attr = data['level_1'].tolist()\n",
    "v1 = data['counts'].tolist()\n",
    "\n",
    "\n",
    "plt.figure(figsize=(20,8)) \n",
    "# Draw a nested barplot to show survival for class and sex\n",
    "g = sns.barplot(x=attr, y=v1, palette=\"Greens_d\",color='b')\n",
    "\n",
    "\n",
    "for i,j in enumerate(v1):\n",
    "    g.text(x=i,y=j,s=int(j),color=\"black\",ha=\"center\")\n",
    "\n",
    "\n",
    "plt.xlabel('电影类型')\n",
    "plt.ylabel('统计个数')\n",
    "plt.title(\"电影类型排名统计\")\n",
    "\n",
    "plt.show()\n",
    "\n",
    "\n"
   ]
  },
  {
   "cell_type": "markdown",
   "metadata": {},
   "source": [
    "### 5.2 按评分排名-top分析"
   ]
  },
  {
   "cell_type": "code",
   "execution_count": 64,
   "metadata": {},
   "outputs": [
    {
     "data": {
      "image/png": "[encoded data removed]",
      "text/plain": [
       "<Figure size 432x288 with 1 Axes>"
      ]
     },
     "metadata": {},
     "output_type": "display_data"
    }
   ],
   "source": [
    "import numpy as np\n",
    "Top10_rating_num = df[['rating_num','title']].sort_values(by = ['rating_num'],ascending = False).head(10).reset_index()\n",
    "#Top10_rating_num.index = [1,2,3,4,5,6,7,8,9,10]\n",
    "attrs = Top10_rating_num['title'].tolist()\n",
    "v1 = Top10_rating_num['rating_num'].tolist()\n",
    "\n",
    "\n",
    "# 饼图\n",
    "plt.pie(x=v1,labels=attrs,autopct=\"%.2f%%\",explode=[0.5,0.2,0.2,0.2,0.2,0.2,0.2,0.1,0.1,0.1])\n",
    "\n",
    "plt.show()"
   ]
  },
  {
   "cell_type": "markdown",
   "metadata": {},
   "source": [
    "# 六、数据分析结论：\n",
    "- 豆瓣电影Top250排行榜和电影评分及评论人数有强相关性，和上映时间无相关性。 \n",
    "- 剧情、爱情、喜剧、犯罪、冒险类型的电影上榜较多。常用标签为“美国”、“剧情”、“经典”、“人性”、“爱情”。 \n",
    "- 美国的电影最受欢迎，用的最多的语言是英语。 \n",
    "- 上榜次数最多的导演是“克里斯托弗·诺兰 Christopher Nolan”和“宫崎骏 Hayao Miyazaki ”，同为7次。 \n",
    "- 上榜次数最多的主演是“张国荣 Leslie Cheung”，高达8次。 \n",
    "- 片长和排名关系不大，多数集中在80-120之间。"
   ]
  }
 ],
 "metadata": {
  "kernelspec": {
   "display_name": "Python 3",
   "language": "python",
   "name": "python3"
  },
  "language_info": {
   "codemirror_mode": {
    "name": "ipython",
    "version": 3
   },
   "file_extension": ".py",
   "mimetype": "text/x-python",
   "name": "python",
   "nbconvert_exporter": "python",
   "pygments_lexer": "ipython3",
   "version": "3.6.3"
  }
 },
 "nbformat": 4,
 "nbformat_minor": 2
}
